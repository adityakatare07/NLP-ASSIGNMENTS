{
 "cells": [
  {
   "cell_type": "code",
   "execution_count": 1,
   "id": "cbd95e4c",
   "metadata": {},
   "outputs": [],
   "source": [
    "hindi_vowels = ['अ', 'आ', 'इ', 'ई', 'उ', 'ऊ', 'ए', 'ऐ', 'ओ', 'औ', 'अं', 'अः', 'अँ']\n",
    "hindi_matras = ['ा', 'ि', 'ी', 'ु', 'ू', 'े', 'ै', 'ो', 'ौ', 'ं', 'ः', 'ँ']\n",
    "Corresponding_vowel_dic = {'ा': 'आ', 'ि': 'इ', 'ी': 'ई', 'ु': 'उ', 'ू': 'ऊ', 'े': 'ए', 'ै': 'ऐ', 'ो': 'ओ', 'ौ': 'औ', 'ं': 'अं', 'ः': 'अः', 'ँ': 'अँ'}\n",
    "Corresponding_matras_dic = {'आ': 'ा', 'इ': 'ि', 'ई': 'ी', 'उ': 'ु', 'ऊ': 'ू', 'ए': 'े', 'ऐ': 'ै', 'ओ': 'ो', 'औ': 'ौ', 'अं': 'ं', 'अः': 'ः', 'अँ': 'ँ'}\n",
    "halant = '\\u094D'\n",
    "aa = 'अ'\n",
    "hindi_punctuation_symbols = \"##▁#।▁,?!.:;‘’“”-…()▁ABCDEFGHIJKLMNOPQRSTUVWXYZabcdefghijklmnopqrstuvwxyz0123456789\"\n",
    "alphabet_string = \"\"\n"
   ]
  },
  {
   "cell_type": "markdown",
   "id": "dd4f43be",
   "metadata": {},
   "source": [
    "## FUNCTION THAT RETURN UNICODE OF WORDS"
   ]
  },
  {
   "cell_type": "code",
   "execution_count": 2,
   "id": "f9fcebb7",
   "metadata": {},
   "outputs": [],
   "source": [
    "def unicoode(wordss):\n",
    "    array1=[]\n",
    "    for j in range(len(wordss)):\n",
    "        words = wordss[j]\n",
    "        n = len(words)\n",
    "        array = []\n",
    "        for i in range(n):\n",
    "            if words[i] in hindi_punctuation_symbols:\n",
    "                continue\n",
    "            elif words[i].isdigit():\n",
    "                continue\n",
    "            elif i != n - 1 and words[i + 1] == halant:\n",
    "                array.append(words[i] + halant)\n",
    "            elif words[i] == halant:\n",
    "                continue\n",
    "            elif words[i] in hindi_vowels:\n",
    "                array.append(words[i])\n",
    "            else:\n",
    "                if i < n - 1 and words[i] not in hindi_vowels and words[i + 1] in hindi_matras and words[i] not in hindi_matras:\n",
    "                    array.append(words[i] + halant)\n",
    "                elif words[i] in hindi_matras:\n",
    "                    matra = words[i]\n",
    "                    vowel = Corresponding_vowel_dic.get(matra)\n",
    "                    array.append(vowel)\n",
    "                elif words[i] not in hindi_matras:\n",
    "                    array.append(words[i] + halant)\n",
    "                    array.append(aa)\n",
    "        array1.append(array)\n",
    "    return array1\n"
   ]
  },
  {
   "cell_type": "markdown",
   "id": "cc8420b5",
   "metadata": {},
   "source": [
    "## FUNCTION THAT RETURN SYLLABLE"
   ]
  },
  {
   "cell_type": "code",
   "execution_count": 3,
   "id": "e68eec32",
   "metadata": {},
   "outputs": [],
   "source": [
    "def syllabee(ara):\n",
    "    hindi_vowels = ['अ', 'आ', 'इ', 'ई', 'उ', 'ऊ', 'ए', 'ऐ', 'ओ', 'औ', 'अं', 'अः', 'अँ']\n",
    "    hindi_matras = ['ा', 'ि', 'ी', 'ु', 'ू', 'े', 'ै', 'ो', 'ौ', 'ं', 'ः', 'ँ']\n",
    "    Corresponding_vowel_dic = {'ा': 'आ', 'ि': 'इ', 'ी': 'ई', 'ु': 'उ', 'ू': 'ऊ', 'े': 'ए', 'ै': 'ऐ', 'ो': 'ओ', 'ौ': 'औ', 'ं': 'अं', 'ः': 'अः', 'ँ': 'अँ'}\n",
    "    Corresponding_matras_dic = {'आ': 'ा', 'इ': 'ि', 'ई': 'ी', 'उ': 'ु', 'ऊ': 'ू', 'ए': 'े', 'ऐ': 'ै', 'ओ': 'ो', 'औ': 'ौ', 'अं': 'ं', 'अः': 'ः', 'अँ': 'ँ'}\n",
    "    halant = '\\u094D'\n",
    "    aa = 'अ'\n",
    "    syllables1 = []\n",
    "    ch = ''\n",
    "    for j in range(0, len(ara)):\n",
    "        array = ara[j]\n",
    "        syllables = []\n",
    "        for i in range(0, len(array)):\n",
    "            if (array[i] in hindi_vowels) and (ch == ''):\n",
    "                syllables.append(array[i])\n",
    "            elif (array[i] in hindi_vowels) and array[i] == aa:\n",
    "                last_halant_index = ch.rfind('्')\n",
    "                if last_halant_index != -1:\n",
    "                    ch = ch[:last_halant_index] + ch[last_halant_index+1:]\n",
    "                syllables.append(ch)\n",
    "                ch = ''\n",
    "            elif (array[i] in hindi_vowels):\n",
    "                last_halant_index = ch.rfind('्')\n",
    "                if last_halant_index != -1:\n",
    "                    ch = ch[:last_halant_index] + ch[last_halant_index+1:]\n",
    "                ma = Corresponding_matras_dic.get(array[i])\n",
    "                ch = ch + ma\n",
    "                syllables.append(ch)\n",
    "                ch = ''\n",
    "            else:\n",
    "                ch = ch + array[i]\n",
    "        syllables1.append(syllables)\n",
    "    return syllables1\n"
   ]
  },
  {
   "cell_type": "code",
   "execution_count": 4,
   "id": "b1c6e162",
   "metadata": {},
   "outputs": [],
   "source": [
    "def sort_frequency(frequency):\n",
    "    sorted_frequency = sorted(frequency.items(), key=lambda x: x[1], reverse=True)\n",
    "    top_20 = sorted_frequency[:20]\n",
    "    return top_20"
   ]
  },
  {
   "cell_type": "code",
   "execution_count": 5,
   "id": "d3370148",
   "metadata": {},
   "outputs": [],
   "source": [
    "def remove_hindi_symbol_prefix(x):\n",
    "    if x[0] in hindi_punctuation_symbols:\n",
    "        return x[1:]\n",
    "    else:\n",
    "        return x"
   ]
  },
  {
   "cell_type": "markdown",
   "id": "31da42cc",
   "metadata": {},
   "source": [
    "## UNIGRAM MODEL VOCAB SIZE 1000"
   ]
  },
  {
   "cell_type": "code",
   "execution_count": 8,
   "id": "b3b164c4",
   "metadata": {},
   "outputs": [],
   "source": [
    "file_path = \"corpus .txt\"  \n",
    "with open(file_path, \"r\", encoding=\"utf-8\") as file:\n",
    "    sentence = file.read()\n",
    "tokens = tokenizer.encode(sentence)\n",
    "decoded_sentence = tokenizer.decode(tokens)\n",
    "arr=[]\n",
    "for token in tokens:\n",
    "    if(tokenizer.id_to_piece(token) not in hindi_punctuation_symbols):\n",
    "        x=remove_hindi_symbol_prefix(tokenizer.id_to_piece(token))\n",
    "        arr.append(x)\n",
    "  \n",
    "brr=unicoode(arr)\n",
    "crr=syllabee(brr)"
   ]
  },
  {
   "cell_type": "code",
   "execution_count": 9,
   "id": "d054a6b0",
   "metadata": {},
   "outputs": [],
   "source": [
    "bigram_tokens=[]\n",
    "bigram_character=[]\n",
    "bigram_syllables=[]\n",
    "for i in range(1,len(arr)):\n",
    "  bigram_tokens.append(arr[i-1]+arr[i])\n",
    "for i in range(0,len(brr)):\n",
    "  for j in range(1,len(brr[i])):\n",
    "    bigram_character.append(brr[i][j-1]+brr[i][j])\n",
    "for i in range(0,len(crr)):\n",
    "  for j in range(1,len(crr[i])):\n",
    "    bigram_syllables.append(crr[i][j-1]+crr[i][j])\n",
    "\n",
    "\n"
   ]
  },
  {
   "cell_type": "code",
   "execution_count": 10,
   "id": "a0025e13",
   "metadata": {},
   "outputs": [],
   "source": [
    "frequency1={}\n",
    "frequency2={}\n",
    "frequency3={}\n",
    "frequency4={}\n",
    "frequency5={}\n",
    "frequency6={}\n",
    "\n",
    "for i in range(0, len(arr)):\n",
    "    if arr[i] in frequency1:\n",
    "        frequency1[arr[i]]+=1\n",
    "    else:\n",
    "        frequency1[arr[i]]=1\n",
    "\n",
    "for i in range(0, len(brr)):\n",
    "    for j in range(0, len(brr[i])):\n",
    "        if brr[i][j] in frequency2:\n",
    "            frequency2[brr[i][j]]+=1\n",
    "        else:\n",
    "            frequency2[brr[i][j]]=1\n",
    "\n",
    "for i in range(0, len(crr)):\n",
    "    for j in range(0, len(crr[i])):\n",
    "        if crr[i][j] in frequency3:\n",
    "            frequency3[crr[i][j]]+=1\n",
    "        else:\n",
    "            frequency3[crr[i][j]]=1\n",
    "\n",
    "for i in range(0, len(bigram_tokens)):\n",
    "    if bigram_tokens[i] in frequency4:\n",
    "        frequency4[bigram_tokens[i]]+=1\n",
    "    else:\n",
    "        frequency4[bigram_tokens[i]]=1\n",
    "\n",
    "for i in range(0, len(bigram_character)):\n",
    "    if bigram_character[i] in frequency5:\n",
    "        frequency5[bigram_character[i]]+=1\n",
    "    else:\n",
    "        frequency5[bigram_character[i]]=1\n",
    "\n",
    "for i in range(0, len(bigram_syllables)):\n",
    "    if bigram_syllables[i] in frequency6:\n",
    "        frequency6[bigram_syllables[i]]+=1\n",
    "    else:\n",
    "        frequency6[bigram_syllables[i]]=1"
   ]
  },
  {
   "cell_type": "code",
   "execution_count": 11,
   "id": "ba49f3aa",
   "metadata": {},
   "outputs": [
    {
     "name": "stdout",
     "output_type": "stream",
     "text": [
      "के : 327776\n",
      "में : 240971\n",
      "है : 228767\n",
      "की : 200438\n",
      "को : 155030\n",
      "से : 147370\n",
      "का : 125966\n",
      "ने : 124887\n",
      "और : 115827\n",
      "पर : 97774\n",
      "कि : 83312\n",
      "ी : 69068\n",
      "हैं : 66837\n",
      "भी : 65971\n",
      "कर : 64023\n",
      "न : 60454\n",
      "ों : 56936\n",
      "एक : 54623\n",
      "इस : 50577\n",
      "लिए : 49271\n"
     ]
    }
   ],
   "source": [
    "#TOKENS IN DECREASING ORDER OF FREQUENCY¶\n",
    "top20=sort_frequency(frequency1)\n",
    "for char, freq in top20:\n",
    "  print(char, \":\", freq)"
   ]
  },
  {
   "cell_type": "code",
   "execution_count": 12,
   "id": "8e38e5f3",
   "metadata": {},
   "outputs": [
    {
     "name": "stdout",
     "output_type": "stream",
     "text": [
      "अ : 8023831\n",
      "आ : 2991109\n",
      "ए : 2318442\n",
      "क् : 2221101\n",
      "र् : 2115631\n",
      "ई : 1460305\n",
      "इ : 1432973\n",
      "न् : 1334418\n",
      "स् : 1283708\n",
      "अं : 1201207\n",
      "ह् : 1133159\n",
      "म् : 1053237\n",
      "त् : 980066\n",
      "ल् : 919917\n",
      "ओ : 896588\n",
      "प् : 805896\n",
      "य् : 753228\n",
      "व् : 624743\n",
      "द् : 607633\n",
      "उ : 587149\n"
     ]
    }
   ],
   "source": [
    "#CHARACTERS IN DECREASING ORDER OF FREQUENCY\n",
    "top20=sort_frequency(frequency2)\n",
    "for char, freq in top20:\n",
    "  print(char, \":\", freq)"
   ]
  },
  {
   "cell_type": "code",
   "execution_count": 16,
   "id": "598383a0",
   "metadata": {},
   "outputs": [
    {
     "name": "stdout",
     "output_type": "stream",
     "text": [
      "र : 1084205\n",
      "अं : 1008231\n",
      "क : 645602\n",
      "न : 550891\n",
      "स : 519654\n",
      "प : 402018\n",
      "के : 401007\n",
      "ल : 376463\n",
      "ए : 361425\n",
      "त : 331669\n",
      "ने : 322165\n",
      "म : 320769\n",
      "आ : 308453\n",
      "का : 301979\n",
      "है : 296908\n",
      "ह : 293807\n",
      "मे : 290279\n",
      "इ : 286449\n",
      "ब : 258288\n",
      "अ : 253177\n"
     ]
    }
   ],
   "source": [
    "#SYLLABLES IN DECREASING ORDER OF FREQUENCY\n",
    "top20=sort_frequency(frequency3)\n",
    "for char, freq in top20:\n",
    "  print(char, \":\", freq)"
   ]
  },
  {
   "cell_type": "code",
   "execution_count": 13,
   "id": "0db9267a",
   "metadata": {},
   "outputs": [
    {
     "name": "stdout",
     "output_type": "stream",
     "text": [
      "केलिए : 43529\n",
      "हैकि : 25265\n",
      "केसाथ : 18391\n",
      "कहाकि : 16126\n",
      "केबाद : 14512\n",
      "हैं : 13756\n",
      "रहाहै : 12040\n",
      "नेकहा : 11908\n",
      "हैऔर : 11261\n",
      "गयाहै : 11070\n",
      "ोंके : 10586\n",
      "रहीहै : 9153\n",
      "करनेके : 8849\n",
      "ोंमें : 8712\n",
      "रहेहैं : 8423\n",
      "ोंको : 8212\n",
      "जाताहै : 7371\n",
      "ोंकी : 7088\n",
      "कियागया : 6892\n",
      "नहींहै : 6688\n"
     ]
    }
   ],
   "source": [
    "#BIGRAM TOKENS IN DECREASING ORDER OF FREQUENCY\n",
    "top20=sort_frequency(frequency4)\n",
    "for char, freq in top20:\n",
    "  print(char, \":\", freq)"
   ]
  },
  {
   "cell_type": "code",
   "execution_count": 14,
   "id": "a626f4d1",
   "metadata": {},
   "outputs": [
    {
     "name": "stdout",
     "output_type": "stream",
     "text": [
      "र्अ : 1270093\n",
      "अर् : 745280\n",
      "क्अ : 662654\n",
      "न्अ : 563303\n",
      "स्अ : 541337\n",
      "प्अ : 420007\n",
      "क्ए : 402530\n",
      "ल्अ : 386078\n",
      "अन् : 385335\n",
      "त्अ : 384439\n",
      "अह् : 379970\n",
      "म्अ : 355819\n",
      "आर् : 353337\n",
      "एअं : 351385\n",
      "न्ए : 322538\n",
      "क्आ : 307930\n",
      "अक् : 305744\n",
      "ह्ऐ : 297090\n",
      "ह्अ : 296595\n",
      "म्ए : 293213\n"
     ]
    }
   ],
   "source": [
    "#BIGRAM IN DECREASING ORDER OF FREQUENCY\n",
    "top20=sort_frequency(frequency5)\n",
    "for char, freq in top20:\n",
    "  print(char, \":\", freq)"
   ]
  },
  {
   "cell_type": "code",
   "execution_count": 15,
   "id": "7a7e477c",
   "metadata": {},
   "outputs": [
    {
     "name": "stdout",
     "output_type": "stream",
     "text": [
      "मेअं : 258642\n",
      "कर : 162397\n",
      "और : 117130\n",
      "पर : 103372\n",
      "इस : 85435\n",
      "ओअं : 76675\n",
      "हैअं : 66834\n",
      "एक : 55964\n",
      "हीअं : 55359\n",
      "लिए : 53590\n",
      "नही : 49219\n",
      "अप : 45591\n",
      "ड़ : 42664\n",
      "कार : 41805\n",
      "किया : 36932\n",
      "कहा : 32992\n",
      "रने : 32824\n",
      "योअं : 32498\n",
      "यह : 31715\n",
      "सर : 31354\n"
     ]
    }
   ],
   "source": [
    "#BIGRAM SYLLABLES IN DECREASING ORDER OF FREQUENCY\n",
    "top20=sort_frequency(frequency6)\n",
    "for char, freq in top20:\n",
    "  print(char, \":\", freq)"
   ]
  },
  {
   "cell_type": "markdown",
   "id": "27c4e45d",
   "metadata": {},
   "source": [
    "## UNIGRAM MODEL VOCABULARY SIZE = 2000"
   ]
  },
  {
   "cell_type": "code",
   "execution_count": 15,
   "id": "4e7a00d5",
   "metadata": {},
   "outputs": [],
   "source": [
    "import sentencepiece as spm\n",
    "corpus_path = \"corpus .txt\"  \n",
    "spm.SentencePieceTrainer.train(input=corpus_path, model_prefix=\"unigram_model2\", model_type=\"unigram\",vocab_size=2000)\n",
    "tokenizer = spm.SentencePieceProcessor(model_file=\"unigram_model.model\")\n"
   ]
  },
  {
   "cell_type": "code",
   "execution_count": 16,
   "id": "caaf2887",
   "metadata": {},
   "outputs": [],
   "source": [
    "file_path = \"corpus .txt\"  \n",
    "with open(file_path, \"r\", encoding=\"utf-8\") as file:\n",
    "    sentence = file.read()\n",
    "tokens = tokenizer.encode(sentence)\n",
    "decoded_sentence = tokenizer.decode(tokens)\n",
    "arr=[]\n",
    "for token in tokens:\n",
    "    if(tokenizer.id_to_piece(token) not in hindi_punctuation_symbols):\n",
    "        x=remove_hindi_symbol_prefix(tokenizer.id_to_piece(token))\n",
    "        arr.append(x)\n",
    "  \n",
    "brr=unicoode(arr)\n",
    "crr=syllabee(brr)"
   ]
  },
  {
   "cell_type": "code",
   "execution_count": 17,
   "id": "481fc97d",
   "metadata": {},
   "outputs": [],
   "source": [
    "bigram_tokens=[]\n",
    "bigram_character=[]\n",
    "bigram_syllables=[]\n",
    "for i in range(1,len(arr)):\n",
    "  bigram_tokens.append(arr[i-1]+arr[i])\n",
    "for i in range(0,len(brr)):\n",
    "  for j in range(1,len(brr[i])):\n",
    "    bigram_character.append(brr[i][j-1]+brr[i][j])\n",
    "for i in range(0,len(crr)):\n",
    "  for j in range(1,len(crr[i])):\n",
    "    bigram_syllables.append(crr[i][j-1]+crr[i][j])\n",
    "\n",
    "\n"
   ]
  },
  {
   "cell_type": "code",
   "execution_count": 18,
   "id": "0e4181ac",
   "metadata": {},
   "outputs": [],
   "source": [
    "frequency1={}\n",
    "frequency2={}\n",
    "frequency3={}\n",
    "frequency4={}\n",
    "frequency5={}\n",
    "frequency6={}\n",
    "\n",
    "for i in range(0, len(arr)):\n",
    "    if arr[i] in frequency1:\n",
    "        frequency1[arr[i]]+=1\n",
    "    else:\n",
    "        frequency1[arr[i]]=1\n",
    "\n",
    "for i in range(0, len(brr)):\n",
    "    for j in range(0, len(brr[i])):\n",
    "        if brr[i][j] in frequency2:\n",
    "            frequency2[brr[i][j]]+=1\n",
    "        else:\n",
    "            frequency2[brr[i][j]]=1\n",
    "\n",
    "for i in range(0, len(crr)):\n",
    "    for j in range(0, len(crr[i])):\n",
    "        if crr[i][j] in frequency3:\n",
    "            frequency3[crr[i][j]]+=1\n",
    "        else:\n",
    "            frequency3[crr[i][j]]=1\n",
    "\n",
    "for i in range(0, len(bigram_tokens)):\n",
    "    if bigram_tokens[i] in frequency4:\n",
    "        frequency4[bigram_tokens[i]]+=1\n",
    "    else:\n",
    "        frequency4[bigram_tokens[i]]=1\n",
    "\n",
    "for i in range(0, len(bigram_character)):\n",
    "    if bigram_character[i] in frequency5:\n",
    "        frequency5[bigram_character[i]]+=1\n",
    "    else:\n",
    "        frequency5[bigram_character[i]]=1\n",
    "\n",
    "for i in range(0, len(bigram_syllables)):\n",
    "    if bigram_syllables[i] in frequency6:\n",
    "        frequency6[bigram_syllables[i]]+=1\n",
    "    else:\n",
    "        frequency6[bigram_syllables[i]]=1"
   ]
  },
  {
   "cell_type": "code",
   "execution_count": 19,
   "id": "61a2280f",
   "metadata": {},
   "outputs": [
    {
     "name": "stdout",
     "output_type": "stream",
     "text": [
      "के : 327776\n",
      "में : 240971\n",
      "है : 228767\n",
      "की : 200438\n",
      "को : 155030\n",
      "से : 147370\n",
      "का : 125966\n",
      "ने : 124887\n",
      "और : 115827\n",
      "पर : 97774\n",
      "कि : 83312\n",
      "ी : 69068\n",
      "हैं : 66837\n",
      "भी : 65971\n",
      "कर : 64023\n",
      "न : 60454\n",
      "ों : 56936\n",
      "एक : 54623\n",
      "इस : 50577\n",
      "लिए : 49271\n"
     ]
    }
   ],
   "source": [
    "#TOKENS IN DECREASING ORDER OF FREQUENCY\n",
    "top20=sort_frequency(frequency1)\n",
    "for char, freq in top20:\n",
    "  print(char, \":\", freq)"
   ]
  },
  {
   "cell_type": "code",
   "execution_count": 20,
   "id": "e02d34c5",
   "metadata": {},
   "outputs": [
    {
     "name": "stdout",
     "output_type": "stream",
     "text": [
      "अ : 8023831\n",
      "आ : 2991109\n",
      "ए : 2318442\n",
      "क् : 2221101\n",
      "र् : 2115631\n",
      "ई : 1460305\n",
      "इ : 1432973\n",
      "न् : 1334418\n",
      "स् : 1283708\n",
      "अं : 1201207\n",
      "ह् : 1133159\n",
      "म् : 1053237\n",
      "त् : 980066\n",
      "ल् : 919917\n",
      "ओ : 896588\n",
      "प् : 805896\n",
      "य् : 753228\n",
      "व् : 624743\n",
      "द् : 607633\n",
      "उ : 587149\n"
     ]
    }
   ],
   "source": [
    "#CHARACTERS IN DECREASING ORDER OF FREQUENCY\n",
    "top20=sort_frequency(frequency2)\n",
    "for char, freq in top20:\n",
    "  print(char, \":\", freq)"
   ]
  },
  {
   "cell_type": "code",
   "execution_count": 21,
   "id": "3b94c9b9",
   "metadata": {},
   "outputs": [
    {
     "name": "stdout",
     "output_type": "stream",
     "text": [
      "र : 1084205\n",
      "अं : 1008231\n",
      "क : 645602\n",
      "न : 550891\n",
      "स : 519654\n",
      "प : 402018\n",
      "के : 401007\n",
      "ल : 376463\n",
      "ए : 361425\n",
      "त : 331669\n",
      "ने : 322165\n",
      "म : 320769\n",
      "आ : 308453\n",
      "का : 301979\n",
      "है : 296908\n",
      "ह : 293807\n",
      "मे : 290279\n",
      "इ : 286449\n",
      "ब : 258288\n",
      "अ : 253177\n"
     ]
    }
   ],
   "source": [
    "#SYLLABLES IN DECREASING ORDER OF FREQUENCY\n",
    "top20=sort_frequency(frequency3)\n",
    "for char, freq in top20:\n",
    "  print(char, \":\", freq)"
   ]
  },
  {
   "cell_type": "code",
   "execution_count": 22,
   "id": "90a294d6",
   "metadata": {},
   "outputs": [
    {
     "name": "stdout",
     "output_type": "stream",
     "text": [
      "केलिए : 43529\n",
      "हैकि : 25265\n",
      "केसाथ : 18391\n",
      "कहाकि : 16126\n",
      "केबाद : 14512\n",
      "हैं : 13756\n",
      "रहाहै : 12040\n",
      "नेकहा : 11908\n",
      "हैऔर : 11261\n",
      "गयाहै : 11070\n",
      "ोंके : 10586\n",
      "रहीहै : 9153\n",
      "करनेके : 8849\n",
      "ोंमें : 8712\n",
      "रहेहैं : 8423\n",
      "ोंको : 8212\n",
      "जाताहै : 7371\n",
      "ोंकी : 7088\n",
      "कियागया : 6892\n",
      "नहींहै : 6688\n"
     ]
    }
   ],
   "source": [
    "#BIGRAM TOKENS IN DECREASING ORDER OF FREQUENCY\n",
    "top20=sort_frequency(frequency4)\n",
    "for char, freq in top20:\n",
    "  print(char, \":\", freq)"
   ]
  },
  {
   "cell_type": "code",
   "execution_count": 23,
   "id": "dd7bdec4",
   "metadata": {},
   "outputs": [
    {
     "name": "stdout",
     "output_type": "stream",
     "text": [
      "र्अ : 1270093\n",
      "अर् : 745280\n",
      "क्अ : 662654\n",
      "न्अ : 563303\n",
      "स्अ : 541337\n",
      "प्अ : 420007\n",
      "क्ए : 402530\n",
      "ल्अ : 386078\n",
      "अन् : 385335\n",
      "त्अ : 384439\n",
      "अह् : 379970\n",
      "म्अ : 355819\n",
      "आर् : 353337\n",
      "एअं : 351385\n",
      "न्ए : 322538\n",
      "क्आ : 307930\n",
      "अक् : 305744\n",
      "ह्ऐ : 297090\n",
      "ह्अ : 296595\n",
      "म्ए : 293213\n"
     ]
    }
   ],
   "source": [
    "#BIGRAM IN DECREASING ORDER OF FREQUENCY\n",
    "top20=sort_frequency(frequency5)\n",
    "for char, freq in top20:\n",
    "  print(char, \":\", freq)"
   ]
  },
  {
   "cell_type": "code",
   "execution_count": 24,
   "id": "73531ae3",
   "metadata": {},
   "outputs": [
    {
     "name": "stdout",
     "output_type": "stream",
     "text": [
      "मेअं : 258642\n",
      "कर : 162397\n",
      "और : 117130\n",
      "पर : 103372\n",
      "इस : 85435\n",
      "ओअं : 76675\n",
      "हैअं : 66834\n",
      "एक : 55964\n",
      "हीअं : 55359\n",
      "लिए : 53590\n",
      "नही : 49219\n",
      "अप : 45591\n",
      "ड़ : 42664\n",
      "कार : 41805\n",
      "किया : 36932\n",
      "कहा : 32992\n",
      "रने : 32824\n",
      "योअं : 32498\n",
      "यह : 31715\n",
      "सर : 31354\n"
     ]
    }
   ],
   "source": [
    "#BIGRAM SYLLABLES IN DECREASING ORDER OF FREQUENCY\n",
    "top20=sort_frequency(frequency6)\n",
    "for char, freq in top20:\n",
    "  print(char, \":\", freq)"
   ]
  },
  {
   "cell_type": "markdown",
   "id": "793095f6",
   "metadata": {},
   "source": [
    "## BPE MODEL VOCAB SIZE 1000"
   ]
  },
  {
   "cell_type": "code",
   "execution_count": 127,
   "id": "84c598d0",
   "metadata": {},
   "outputs": [],
   "source": [
    "import sentencepiece as spm\n",
    "\n",
    "corpus_path = \"corpus .txt\"  # Path to your corpus file\n",
    "spm.SentencePieceTrainer.train(input=corpus_path, model_prefix=\"bpe_model\", model_type=\"bpe\",vocab_size=1000)\n",
    "tokenizer = spm.SentencePieceProcessor(model_file=\"bpe_model.model\")"
   ]
  },
  {
   "cell_type": "code",
   "execution_count": 128,
   "id": "c46d1d41",
   "metadata": {},
   "outputs": [],
   "source": [
    "file_path = \"corpus .txt\" \n",
    "with open(file_path, \"r\", encoding=\"utf-8\") as file:\n",
    "    sentence = file.read()\n",
    "tokens = tokenizer.encode(sentence)\n",
    "\n",
    "arr=[]\n",
    "for token in tokens:\n",
    "    if(tokenizer.id_to_piece(token) not in hindi_punctuation_symbols):\n",
    "        x=remove_hindi_symbol_prefix(tokenizer.id_to_piece(token))\n",
    "        arr.append(x)\n",
    "  \n",
    "brr=unicoode(arr)\n",
    "crr=syllabee(brr)\n",
    "\n"
   ]
  },
  {
   "cell_type": "code",
   "execution_count": 129,
   "id": "a7d31b6e",
   "metadata": {},
   "outputs": [],
   "source": [
    "bigram_tokens=[]\n",
    "bigram_character=[]\n",
    "bigram_syllables=[]\n",
    "for i in range(1,len(arr)):\n",
    "  bigram_tokens.append(arr[i-1]+arr[i])\n",
    "for i in range(0,len(brr)):\n",
    "  for j in range(1,len(brr[i])):\n",
    "    bigram_character.append(brr[i][j-1]+brr[i][j])\n",
    "for i in range(0,len(crr)):\n",
    "  for j in range(1,len(crr[i])):\n",
    "    bigram_syllables.append(crr[i][j-1]+crr[i][j])"
   ]
  },
  {
   "cell_type": "code",
   "execution_count": 130,
   "id": "c6ed2025",
   "metadata": {},
   "outputs": [],
   "source": [
    "frequency1={}\n",
    "frequency2={}\n",
    "frequency3={}\n",
    "frequency4={}\n",
    "frequency5={}\n",
    "frequency6={}\n",
    "\n",
    "for i in range(0, len(arr)):\n",
    "    if arr[i] in frequency1:\n",
    "        frequency1[arr[i]]+=1\n",
    "    else:\n",
    "        frequency1[arr[i]]=1\n",
    "\n",
    "for i in range(0, len(brr)):\n",
    "    for j in range(0, len(brr[i])):\n",
    "        if brr[i][j] in frequency2:\n",
    "            frequency2[brr[i][j]]+=1\n",
    "        else:\n",
    "            frequency2[brr[i][j]]=1\n",
    "\n",
    "for i in range(0, len(crr)):\n",
    "    for j in range(0, len(crr[i])):\n",
    "        if crr[i][j] in frequency3:\n",
    "            frequency3[crr[i][j]]+=1\n",
    "        else:\n",
    "            frequency3[crr[i][j]]=1\n",
    "\n",
    "for i in range(0, len(bigram_tokens)):\n",
    "    if bigram_tokens[i] in frequency4:\n",
    "        frequency4[bigram_tokens[i]]+=1\n",
    "    else:\n",
    "        frequency4[bigram_tokens[i]]=1\n",
    "\n",
    "for i in range(0, len(bigram_character)):\n",
    "    if bigram_character[i] in frequency5:\n",
    "        frequency5[bigram_character[i]]+=1\n",
    "    else:\n",
    "        frequency5[bigram_character[i]]=1\n",
    "\n",
    "for i in range(0, len(bigram_syllables)):\n",
    "    if bigram_syllables[i] in frequency6:\n",
    "        frequency6[bigram_syllables[i]]+=1\n",
    "    else:\n",
    "        frequency6[bigram_syllables[i]]=1"
   ]
  },
  {
   "cell_type": "code",
   "execution_count": 131,
   "id": "40cded6c",
   "metadata": {},
   "outputs": [
    {
     "name": "stdout",
     "output_type": "stream",
     "text": [
      "के : 364434\n",
      "में : 252765\n",
      "न : 234722\n",
      "की : 227551\n",
      "म : 223876\n",
      "क : 221806\n",
      "है : 215519\n",
      "ने : 209162\n",
      "त : 200426\n",
      "ल : 200164\n",
      "प : 195055\n",
      "स : 187952\n",
      "र : 175155\n",
      "व : 173069\n",
      "से : 171984\n",
      "ज : 171762\n",
      "को : 170953\n",
      "ब : 164575\n",
      "का : 164085\n",
      "द : 158938\n"
     ]
    }
   ],
   "source": [
    "#TOKENS IN DECREASING ORDER OF FREQUENCY\n",
    "top20=sort_frequency(frequency1)\n",
    "for char, freq in top20:\n",
    "  print(char, \":\", freq)"
   ]
  },
  {
   "cell_type": "code",
   "execution_count": 132,
   "id": "4e3c14cf",
   "metadata": {},
   "outputs": [
    {
     "name": "stdout",
     "output_type": "stream",
     "text": [
      "अ : 9846300\n",
      "आ : 2991109\n",
      "ए : 2318442\n",
      "क् : 2221101\n",
      "र् : 2115631\n",
      "ई : 1460305\n",
      "इ : 1432973\n",
      "न् : 1334418\n",
      "स् : 1283708\n",
      "अं : 1201207\n",
      "ह् : 1133159\n",
      "म् : 1053237\n",
      "त् : 980066\n",
      "ल् : 919917\n",
      "ओ : 896588\n",
      "प् : 805896\n",
      "य् : 753228\n",
      "व् : 624743\n",
      "द् : 607633\n",
      "उ : 587149\n"
     ]
    }
   ],
   "source": [
    "#CHARACTERS IN DECREASING ORDER OF FREQUENCY\n",
    "top20=sort_frequency(frequency2)\n",
    "for char, freq in top20:\n",
    "  print(char, \":\", freq)"
   ]
  },
  {
   "cell_type": "code",
   "execution_count": 133,
   "id": "dfc623c6",
   "metadata": {},
   "outputs": [
    {
     "name": "stdout",
     "output_type": "stream",
     "text": [
      "र : 1252326\n",
      "अं : 1104629\n",
      "क : 709241\n",
      "आ : 703358\n",
      "इ : 681029\n",
      "न : 605534\n",
      "स : 573001\n",
      "ए : 548038\n",
      "प : 494064\n",
      "म : 473963\n",
      "ल : 455547\n",
      "त : 403316\n",
      "के : 391564\n",
      "ह : 356329\n",
      "ने : 325365\n",
      "ग : 324579\n",
      "ब : 320527\n",
      "ओ : 296402\n",
      "है : 296103\n",
      "ज : 289729\n"
     ]
    }
   ],
   "source": [
    "#SYLLABLES IN DECREASING ORDER OF FREQUENCY\n",
    "top20=sort_frequency(frequency3)\n",
    "for char, freq in top20:\n",
    "  print(char, \":\", freq)"
   ]
  },
  {
   "cell_type": "code",
   "execution_count": 134,
   "id": "21c33cd4",
   "metadata": {},
   "outputs": [
    {
     "name": "stdout",
     "output_type": "stream",
     "text": [
      "केलिए : 44393\n",
      "हैकि : 25730\n",
      "केसाथ : 18661\n",
      "ोंके : 18030\n",
      "नेके : 16992\n",
      "कहाकि : 16141\n",
      "ोंमें : 16094\n",
      "तेहैं : 15853\n",
      "केबाद : 15556\n",
      "ोंको : 14293\n",
      "ताहै : 13224\n",
      "नेकहा : 12402\n",
      "रहाहै : 12023\n",
      "ोंकी : 11541\n",
      "हैऔर : 11227\n",
      "गयाहै : 11060\n",
      "रहेहैं : 10182\n",
      "नेकी : 9812\n",
      "वारको : 9229\n",
      "करनेके : 8850\n"
     ]
    }
   ],
   "source": [
    "#TOKENS BIGRAM IN DECREASING ORDER OF FREQUENCY\n",
    "top20=sort_frequency(frequency4)\n",
    "for char, freq in top20:\n",
    "  print(char, \":\", freq)"
   ]
  },
  {
   "cell_type": "code",
   "execution_count": 135,
   "id": "09062cfd",
   "metadata": {},
   "outputs": [
    {
     "name": "stdout",
     "output_type": "stream",
     "text": [
      "र्अ : 1442643\n",
      "क्अ : 731341\n",
      "न्अ : 617297\n",
      "स्अ : 595089\n",
      "अर् : 545257\n",
      "म्अ : 512059\n",
      "प्अ : 512024\n",
      "ल्अ : 461669\n",
      "त्अ : 452136\n",
      "क्ए : 393586\n",
      "ह्अ : 362715\n",
      "आर् : 360707\n",
      "एअं : 351357\n",
      "य्अ : 347502\n",
      "ग्अ : 331524\n",
      "न्ए : 325957\n",
      "ब्अ : 325582\n",
      "अह् : 313382\n",
      "व्अ : 304077\n",
      "ज्अ : 301474\n"
     ]
    }
   ],
   "source": [
    "#BIGRAM IN DECREASING ORDER OF FREQUENCY\n",
    "top20=sort_frequency(frequency5)\n",
    "for char, freq in top20:\n",
    "  print(char, \":\", freq)"
   ]
  },
  {
   "cell_type": "code",
   "execution_count": 136,
   "id": "70c76590",
   "metadata": {},
   "outputs": [
    {
     "name": "stdout",
     "output_type": "stream",
     "text": [
      "मेअं : 256394\n",
      "कर : 173727\n",
      "और : 123940\n",
      "ओअं : 123314\n",
      "पर : 112079\n",
      "इस : 95462\n",
      "हैअं : 80594\n",
      "एअं : 79456\n",
      "इक : 67974\n",
      "इत : 66174\n",
      "कार : 57763\n",
      "हीअं : 55522\n",
      "आर : 54897\n",
      "अंग : 54775\n",
      "एक : 54348\n",
      "लिए : 53777\n",
      "आन : 50794\n",
      "अप : 47964\n",
      "नही : 47278\n",
      "ड़ : 45489\n"
     ]
    }
   ],
   "source": [
    "#SYLLABLES BIGRAM IN DECREASING ORDER OF FREQUENCY\n",
    "top20=sort_frequency(frequency6)\n",
    "for char, freq in top20:\n",
    "  print(char, \":\", freq)"
   ]
  },
  {
   "cell_type": "markdown",
   "id": "2d59af89",
   "metadata": {},
   "source": [
    "## BPE MODEL VOCAB SIZE 2000"
   ]
  },
  {
   "cell_type": "code",
   "execution_count": 25,
   "id": "122c5436",
   "metadata": {},
   "outputs": [],
   "source": [
    "import sentencepiece as spm\n",
    "\n",
    "\n",
    "corpus_path = \"corpus .txt\" \n",
    "spm.SentencePieceTrainer.train(input=corpus_path, model_prefix=\"bpe_model\", model_type=\"bpe\",vocab_size=2000)\n",
    "tokenizer = spm.SentencePieceProcessor(model_file=\"bpe_model.model\")"
   ]
  },
  {
   "cell_type": "code",
   "execution_count": 26,
   "id": "d47391bf",
   "metadata": {},
   "outputs": [],
   "source": [
    "file_path = \"corpus .txt\"  \n",
    "with open(file_path, \"r\", encoding=\"utf-8\") as file:\n",
    "    sentence = file.read()\n",
    "tokens = tokenizer.encode(sentence)\n",
    "arr=[]\n",
    "for token in tokens:\n",
    "    if(tokenizer.id_to_piece(token) not in hindi_punctuation_symbols):\n",
    "        x=remove_hindi_symbol_prefix(tokenizer.id_to_piece(token))\n",
    "        arr.append(x)\n",
    "  \n",
    "brr=unicoode(arr)\n",
    "crr=syllabee(brr)\n",
    "\n"
   ]
  },
  {
   "cell_type": "code",
   "execution_count": 27,
   "id": "38a84165",
   "metadata": {},
   "outputs": [],
   "source": [
    "bigram_tokens=[]\n",
    "bigram_character=[]\n",
    "bigram_syllables=[]\n",
    "for i in range(1,len(arr)):\n",
    "  bigram_tokens.append(arr[i-1]+arr[i])\n",
    "for i in range(0,len(brr)):\n",
    "  for j in range(1,len(brr[i])):\n",
    "    bigram_character.append(brr[i][j-1]+brr[i][j])\n",
    "for i in range(0,len(crr)):\n",
    "  for j in range(1,len(crr[i])):\n",
    "    bigram_syllables.append(crr[i][j-1]+crr[i][j])"
   ]
  },
  {
   "cell_type": "code",
   "execution_count": 28,
   "id": "0686da47",
   "metadata": {},
   "outputs": [],
   "source": [
    "frequency1={}\n",
    "frequency2={}\n",
    "frequency3={}\n",
    "frequency4={}\n",
    "frequency5={}\n",
    "frequency6={}\n",
    "\n",
    "for i in range(0, len(arr)):\n",
    "    if arr[i] in frequency1:\n",
    "        frequency1[arr[i]]+=1\n",
    "    else:\n",
    "        frequency1[arr[i]]=1\n",
    "\n",
    "for i in range(0, len(brr)):\n",
    "    for j in range(0, len(brr[i])):\n",
    "        if brr[i][j] in frequency2:\n",
    "            frequency2[brr[i][j]]+=1\n",
    "        else:\n",
    "            frequency2[brr[i][j]]=1\n",
    "\n",
    "for i in range(0, len(crr)):\n",
    "    for j in range(0, len(crr[i])):\n",
    "        if crr[i][j] in frequency3:\n",
    "            frequency3[crr[i][j]]+=1\n",
    "        else:\n",
    "            frequency3[crr[i][j]]=1\n",
    "\n",
    "for i in range(0, len(bigram_tokens)):\n",
    "    if bigram_tokens[i] in frequency4:\n",
    "        frequency4[bigram_tokens[i]]+=1\n",
    "    else:\n",
    "        frequency4[bigram_tokens[i]]=1\n",
    "\n",
    "for i in range(0, len(bigram_character)):\n",
    "    if bigram_character[i] in frequency5:\n",
    "        frequency5[bigram_character[i]]+=1\n",
    "    else:\n",
    "        frequency5[bigram_character[i]]=1\n",
    "\n",
    "for i in range(0, len(bigram_syllables)):\n",
    "    if bigram_syllables[i] in frequency6:\n",
    "        frequency6[bigram_syllables[i]]+=1\n",
    "    else:\n",
    "        frequency6[bigram_syllables[i]]=1"
   ]
  },
  {
   "cell_type": "code",
   "execution_count": 29,
   "id": "6b471b71",
   "metadata": {},
   "outputs": [
    {
     "name": "stdout",
     "output_type": "stream",
     "text": [
      "के : 344230\n",
      "में : 245494\n",
      "है : 215519\n",
      "की : 214647\n",
      "ने : 178508\n",
      "को : 164642\n",
      "से : 161960\n",
      "का : 147974\n",
      "क : 133331\n",
      "न : 124503\n",
      "और : 115365\n",
      "म : 114131\n",
      "स : 111941\n",
      "पर : 105525\n",
      "प : 99336\n",
      "व : 96389\n",
      "ल : 95954\n",
      "त : 94389\n",
      "कि : 92995\n",
      "द : 90949\n"
     ]
    }
   ],
   "source": [
    "#TOKENS IN DECREASING ORDER OF FREQUENCY\n",
    "top20=sort_frequency(frequency1)\n",
    "for char, freq in top20:\n",
    "  print(char, \":\", freq)"
   ]
  },
  {
   "cell_type": "code",
   "execution_count": 30,
   "id": "4a8c3407",
   "metadata": {},
   "outputs": [
    {
     "name": "stdout",
     "output_type": "stream",
     "text": [
      "अ : 9012816\n",
      "आ : 2991109\n",
      "ए : 2318442\n",
      "क् : 2221101\n",
      "र् : 2115631\n",
      "ई : 1460305\n",
      "इ : 1432973\n",
      "न् : 1334418\n",
      "स् : 1283708\n",
      "अं : 1201207\n",
      "ह् : 1133159\n",
      "म् : 1053237\n",
      "त् : 980066\n",
      "ल् : 919917\n",
      "ओ : 896588\n",
      "प् : 805896\n",
      "य् : 753228\n",
      "व् : 624743\n",
      "द् : 607633\n",
      "उ : 587149\n"
     ]
    }
   ],
   "source": [
    "##CHARACTERS IN DECREASING ORDER OF FREQUENCY\n",
    "top20=sort_frequency(frequency2)\n",
    "for char, freq in top20:\n",
    "  print(char, \":\", freq)"
   ]
  },
  {
   "cell_type": "code",
   "execution_count": 31,
   "id": "07749448",
   "metadata": {},
   "outputs": [
    {
     "name": "stdout",
     "output_type": "stream",
     "text": [
      "र : 1164075\n",
      "अं : 1075359\n",
      "क : 668590\n",
      "न : 577447\n",
      "स : 557503\n",
      "आ : 518664\n",
      "इ : 518284\n",
      "प : 448058\n",
      "ए : 434596\n",
      "ल : 417838\n",
      "के : 400848\n",
      "म : 391747\n",
      "त : 361360\n",
      "ह : 332903\n",
      "ने : 325271\n",
      "का : 298276\n",
      "है : 296103\n",
      "ब : 292210\n",
      "ग : 285653\n",
      "मे : 285205\n"
     ]
    }
   ],
   "source": [
    "#SYLLABLES IN DECREASING ORDER OF FREQUENCY\n",
    "top20=sort_frequency(frequency3)\n",
    "for char, freq in top20:\n",
    "  print(char, \":\", freq)"
   ]
  },
  {
   "cell_type": "code",
   "execution_count": 32,
   "id": "436f4447",
   "metadata": {},
   "outputs": [
    {
     "name": "stdout",
     "output_type": "stream",
     "text": [
      "केलिए : 43667\n",
      "हैकि : 25489\n",
      "केसाथ : 18478\n",
      "कहाकि : 16130\n",
      "केबाद : 14524\n",
      "ोंके : 13518\n",
      "ोंमें : 13064\n",
      "नेकहा : 12057\n",
      "रहाहै : 12023\n",
      "नेके : 11835\n",
      "हैऔर : 11214\n",
      "ताहै : 11146\n",
      "गयाहै : 11060\n",
      "रहेहैं : 10181\n",
      "ोंको : 10150\n",
      "करनेके : 8850\n",
      "रहीहै : 8754\n",
      "ोंकी : 8388\n",
      "तेहैं : 8121\n",
      "जाताहै : 7337\n"
     ]
    }
   ],
   "source": [
    "#TOKENS BIGRAM IN DECREASING ORDER OF FREQUENCY\n",
    "top20=sort_frequency(frequency4)\n",
    "for char, freq in top20:\n",
    "  print(char, \":\", freq)"
   ]
  },
  {
   "cell_type": "code",
   "execution_count": 33,
   "id": "bb12b452",
   "metadata": {},
   "outputs": [
    {
     "name": "stdout",
     "output_type": "stream",
     "text": [
      "र्अ : 1360453\n",
      "क्अ : 684487\n",
      "अर् : 635321\n",
      "न्अ : 589650\n",
      "स्अ : 579574\n",
      "प्अ : 465789\n",
      "म्अ : 433476\n",
      "ल्अ : 427629\n",
      "त्अ : 410730\n",
      "क्ए : 402872\n",
      "आर् : 366396\n",
      "अह् : 351585\n",
      "एअं : 351357\n",
      "ह्अ : 337544\n",
      "न्ए : 325957\n",
      "य्अ : 325819\n",
      "क्आ : 304314\n",
      "ब्अ : 297040\n",
      "ह्ऐ : 296118\n",
      "ग्अ : 293145\n"
     ]
    }
   ],
   "source": [
    "#BIGRAM IN DECREASING ORDER OF FREQUENCY\n",
    "top20=sort_frequency(frequency5)\n",
    "for char, freq in top20:\n",
    "  print(char, \":\", freq)"
   ]
  },
  {
   "cell_type": "code",
   "execution_count": 34,
   "id": "55c79f78",
   "metadata": {},
   "outputs": [
    {
     "name": "stdout",
     "output_type": "stream",
     "text": [
      "मेअं : 259029\n",
      "कर : 167277\n",
      "और : 119297\n",
      "पर : 106908\n",
      "ओअं : 98836\n",
      "इस : 95497\n",
      "हैअं : 80594\n",
      "एअं : 57063\n",
      "हीअं : 55522\n",
      "एक : 54348\n",
      "लिए : 53777\n",
      "नही : 49102\n",
      "कार : 48542\n",
      "इत : 46794\n",
      "अप : 46066\n",
      "इक : 45432\n",
      "ड़ : 43479\n",
      "अंग : 40905\n",
      "आर : 38278\n",
      "योअं : 36742\n"
     ]
    }
   ],
   "source": [
    "#SYLLABLES BIGRAM IN DECREASING ORDER OF FREQUENCY\n",
    "top20=sort_frequency(frequency6)\n",
    "for char, freq in top20:\n",
    "  print(char, \":\", freq)"
   ]
  },
  {
   "cell_type": "markdown",
   "id": "69bf2331",
   "metadata": {},
   "source": [
    "## WHITE SPACE TOKENIZER"
   ]
  },
  {
   "cell_type": "code",
   "execution_count": 35,
   "id": "fef60137",
   "metadata": {},
   "outputs": [],
   "source": [
    "\n",
    "tokens = sentence.split() \n",
    "arr=[]\n",
    "for token in tokens:\n",
    "  if(token not in hindi_punctuation_symbols):\n",
    "    arr.append(token)\n",
    "brr=unicoode(arr)\n",
    "crr=syllabee(brr)"
   ]
  },
  {
   "cell_type": "code",
   "execution_count": 36,
   "id": "5f2d3073",
   "metadata": {},
   "outputs": [],
   "source": [
    "bigram_tokens=[]\n",
    "bigram_character=[]\n",
    "bigram_syllables=[]\n",
    "for i in range(1,len(arr)):\n",
    "  bigram_tokens.append(arr[i-1]+arr[i])\n",
    "for i in range(0,len(brr)):\n",
    "  for j in range(1,len(brr[i])):\n",
    "    bigram_character.append(brr[i][j-1]+brr[i][j])\n",
    "for i in range(0,len(crr)):\n",
    "  for j in range(1,len(crr[i])):\n",
    "    bigram_syllables.append(crr[i][j-1]+crr[i][j])"
   ]
  },
  {
   "cell_type": "code",
   "execution_count": 37,
   "id": "506bc676",
   "metadata": {},
   "outputs": [],
   "source": [
    "frequency1={}\n",
    "frequency2={}\n",
    "frequency3={}\n",
    "frequency4={}\n",
    "frequency5={}\n",
    "frequency6={}\n",
    "\n",
    "for i in range(0, len(arr)):\n",
    "    if arr[i] in frequency1:\n",
    "        frequency1[arr[i]]+=1\n",
    "    else:\n",
    "        frequency1[arr[i]]=1\n",
    "\n",
    "for i in range(0, len(brr)):\n",
    "    for j in range(0, len(brr[i])):\n",
    "        if brr[i][j] in frequency2:\n",
    "            frequency2[brr[i][j]]+=1\n",
    "        else:\n",
    "            frequency2[brr[i][j]]=1\n",
    "\n",
    "for i in range(0, len(crr)):\n",
    "    for j in range(0, len(crr[i])):\n",
    "        if crr[i][j] in frequency3:\n",
    "            frequency3[crr[i][j]]+=1\n",
    "        else:\n",
    "            frequency3[crr[i][j]]=1\n",
    "\n",
    "for i in range(0, len(bigram_tokens)):\n",
    "    if bigram_tokens[i] in frequency4:\n",
    "        frequency4[bigram_tokens[i]]+=1\n",
    "    else:\n",
    "        frequency4[bigram_tokens[i]]=1\n",
    "\n",
    "for i in range(0, len(bigram_character)):\n",
    "    if bigram_character[i] in frequency5:\n",
    "        frequency5[bigram_character[i]]+=1\n",
    "    else:\n",
    "        frequency5[bigram_character[i]]=1\n",
    "\n",
    "for i in range(0, len(bigram_syllables)):\n",
    "    if bigram_syllables[i] in frequency6:\n",
    "        frequency6[bigram_syllables[i]]+=1\n",
    "    else:\n",
    "        frequency6[bigram_syllables[i]]=1\n",
    "\n"
   ]
  },
  {
   "cell_type": "code",
   "execution_count": 38,
   "id": "8aee4991",
   "metadata": {
    "scrolled": true
   },
   "outputs": [
    {
     "name": "stdout",
     "output_type": "stream",
     "text": [
      "के : 316314\n",
      "में : 237426\n",
      "की : 189769\n",
      "को : 145266\n",
      "से : 136979\n",
      "और : 114563\n",
      "का : 109743\n",
      "ने : 102378\n",
      "पर : 88560\n",
      "है। : 88260\n",
      "कि : 76741\n",
      "है : 72656\n",
      "भी : 63920\n",
      "एक : 49279\n",
      "लिए : 47955\n",
      "इस : 47558\n",
      "कर : 44563\n",
      "नहीं : 44168\n",
      "ही : 40104\n",
      "तो : 33469\n"
     ]
    }
   ],
   "source": [
    "#TOKENS IN DECREASING ORDER OF FREQUENCY\n",
    "top20=sort_frequency(frequency1)\n",
    "for char, freq in top20:\n",
    "  print(char, \":\", freq)"
   ]
  },
  {
   "cell_type": "code",
   "execution_count": 39,
   "id": "d6f344d4",
   "metadata": {},
   "outputs": [
    {
     "name": "stdout",
     "output_type": "stream",
     "text": [
      "अ : 7406178\n",
      "आ : 2991096\n",
      "ए : 2318222\n",
      "क् : 2219964\n",
      "र् : 2115649\n",
      "ई : 1460298\n",
      "इ : 1432884\n",
      "न् : 1334448\n",
      "स् : 1283708\n",
      "अं : 1201181\n",
      "ह् : 1133159\n",
      "म् : 1053237\n",
      "त् : 980066\n",
      "ल् : 919917\n",
      "ओ : 896585\n",
      "प् : 805896\n",
      "य् : 752819\n",
      "व् : 624743\n",
      "द् : 607633\n",
      "उ : 587050\n"
     ]
    }
   ],
   "source": [
    "#CHARACTERS IN DECREASING ORDER OF FREQUENCY\n",
    "top20=sort_frequency(frequency2)\n",
    "for char, freq in top20:\n",
    "  print(char, \":\", freq)"
   ]
  },
  {
   "cell_type": "code",
   "execution_count": 40,
   "id": "5b043338",
   "metadata": {},
   "outputs": [
    {
     "name": "stdout",
     "output_type": "stream",
     "text": [
      "र : 1006954\n",
      "अं : 988199\n",
      "क : 613687\n",
      "न : 505380\n",
      "स : 490296\n",
      "के : 404894\n",
      "प : 392624\n",
      "ल : 328511\n",
      "ने : 328088\n",
      "त : 310497\n",
      "का : 307927\n",
      "है : 297000\n",
      "म : 296814\n",
      "मे : 292568\n",
      "ए : 288613\n",
      "ह : 280756\n",
      "अ : 253148\n",
      "ब : 247435\n",
      "की : 235283\n",
      "ग : 227649\n"
     ]
    }
   ],
   "source": [
    "#SYLLABLES IN DECREASING ORDER OF FREQUENCY\n",
    "top20=sort_frequency(frequency3)\n",
    "for char, freq in top20:\n",
    "  print(char, \":\", freq)"
   ]
  },
  {
   "cell_type": "code",
   "execution_count": 41,
   "id": "dbec42f2",
   "metadata": {},
   "outputs": [
    {
     "name": "stdout",
     "output_type": "stream",
     "text": [
      "केलिए : 42448\n",
      "हैकि : 24818\n",
      "केसाथ : 17075\n",
      "कहाकि : 15922\n",
      "केबाद : 14163\n",
      "हैऔर : 10158\n",
      "नेकहा : 9098\n",
      "करनेके : 8826\n",
      "बतायाकि : 6393\n",
      "कोलेकर : 5977\n",
      "गयाहै। : 5678\n",
      "रहाहै। : 5483\n",
      "केखिलाफ : 5312\n",
      "केदौरान : 5162\n",
      "केबीच : 5117\n",
      "बारेमें : 5059\n",
      "करतेहुए : 4817\n",
      "रहेहैं। : 4701\n",
      "मेंभी : 4682\n",
      "कररहे : 4637\n"
     ]
    }
   ],
   "source": [
    "#TOKENS BIGRAM IN DECREASING ORDER OF FREQUENCY\n",
    "top20=sort_frequency(frequency4)\n",
    "for char, freq in top20:\n",
    "  print(char, \":\", freq)"
   ]
  },
  {
   "cell_type": "code",
   "execution_count": 42,
   "id": "ee0ac309",
   "metadata": {},
   "outputs": [
    {
     "name": "stdout",
     "output_type": "stream",
     "text": [
      "र्अ : 1173677\n",
      "अर् : 793774\n",
      "क्अ : 627793\n",
      "स्अ : 519210\n",
      "न्अ : 516166\n",
      "अन् : 439384\n",
      "क्ए : 407109\n",
      "प्अ : 406718\n",
      "अह् : 394302\n",
      "आर् : 368608\n",
      "एअं : 359371\n",
      "अक् : 358810\n",
      "त्अ : 355978\n",
      "ल्अ : 333307\n",
      "न्ए : 328954\n",
      "म्अ : 328117\n",
      "अत् : 322807\n",
      "क्आ : 314321\n",
      "य्आ : 297777\n",
      "ह्ऐ : 297198\n"
     ]
    }
   ],
   "source": [
    "#BIGRAM IN DECREASING ORDER OF FREQUENCY\n",
    "top20=sort_frequency(frequency5)\n",
    "for char, freq in top20:\n",
    "  print(char, \":\", freq)"
   ]
  },
  {
   "cell_type": "code",
   "execution_count": 43,
   "id": "1e6729f0",
   "metadata": {},
   "outputs": [
    {
     "name": "stdout",
     "output_type": "stream",
     "text": [
      "मेअं : 259085\n",
      "कर : 159850\n",
      "और : 115647\n",
      "पर : 99651\n",
      "इस : 82683\n",
      "हैअं : 80711\n",
      "हीअं : 55631\n",
      "एक : 54362\n",
      "लिए : 54023\n",
      "नही : 49365\n",
      "अप : 45136\n",
      "कार : 38960\n",
      "किया : 37429\n",
      "योअं : 34859\n",
      "रने : 34498\n",
      "कहा : 33141\n",
      "यह : 31413\n",
      "गया : 30282\n",
      "सर : 30070\n",
      "उन : 28940\n"
     ]
    }
   ],
   "source": [
    "#SYLLABLES BIGRAM IN DECREASING ORDER OF FREQUENCY\n",
    "top20=sort_frequency(frequency6)\n",
    "for char, freq in top20:\n",
    "  print(char, \":\", freq)"
   ]
  },
  {
   "cell_type": "markdown",
   "id": "afa2e802",
   "metadata": {},
   "source": [
    "## INDICBERT MODEL MAX LENGTH=1000"
   ]
  },
  {
   "cell_type": "code",
   "execution_count": 6,
   "id": "d4619a4d",
   "metadata": {},
   "outputs": [],
   "source": [
    "\n",
    "from transformers import AutoTokenizer\n",
    "tokenizer = AutoTokenizer.from_pretrained(\"ai4bharat/indic-bert\",max_length=1000)\n"
   ]
  },
  {
   "cell_type": "code",
   "execution_count": null,
   "id": "c082535f",
   "metadata": {},
   "outputs": [],
   "source": [
    "file_path = \"corpus .txt\" \n",
    "with open(file_path, \"r\", encoding=\"utf-8\") as file:\n",
    "    sentence = file.read()\n",
    "tokens = tokenizer.tokenize(sentence)\n",
    "\n",
    "\n",
    "arr=[]\n",
    "\n",
    "for token in tokens:\n",
    "    if(token not in hindi_punctuation_symbols):\n",
    "        x=remove_hindi_symbol_prefix(token)\n",
    "        arr.append(x)\n",
    "  \n",
    "brr=unicoode(arr)\n",
    "crr=syllabee(brr)\n"
   ]
  },
  {
   "cell_type": "code",
   "execution_count": null,
   "id": "1bed6403",
   "metadata": {},
   "outputs": [],
   "source": [
    "bigram_tokens=[]\n",
    "bigram_character=[]\n",
    "bigram_syllables=[]\n",
    "for i in range(1,len(arr)):\n",
    "  bigram_tokens.append(arr[i-1]+arr[i])\n",
    "for i in range(0,len(brr)):\n",
    "  for j in range(1,len(brr[i])):\n",
    "    bigram_character.append(brr[i][j-1]+brr[i][j])\n",
    "for i in range(0,len(crr)):\n",
    "  for j in range(1,len(crr[i])):\n",
    "    bigram_syllables.append(crr[i][j-1]+crr[i][j])"
   ]
  },
  {
   "cell_type": "code",
   "execution_count": null,
   "id": "3d947c65",
   "metadata": {},
   "outputs": [],
   "source": [
    "frequency1={}\n",
    "frequency2={}\n",
    "frequency3={}\n",
    "frequency4={}\n",
    "frequency5={}\n",
    "frequency6={}\n",
    "\n",
    "for i in range(0, len(arr)):\n",
    "    if arr[i] in frequency1:\n",
    "        frequency1[arr[i]]+=1\n",
    "    else:\n",
    "        frequency1[arr[i]]=1\n",
    "\n",
    "for i in range(0, len(brr)):\n",
    "    for j in range(0, len(brr[i])):\n",
    "        if brr[i][j] in frequency2:\n",
    "            frequency2[brr[i][j]]+=1\n",
    "        else:\n",
    "            frequency2[brr[i][j]]=1\n",
    "\n",
    "for i in range(0, len(crr)):\n",
    "    for j in range(0, len(crr[i])):\n",
    "        if crr[i][j] in frequency3:\n",
    "            frequency3[crr[i][j]]+=1\n",
    "        else:\n",
    "            frequency3[crr[i][j]]=1\n",
    "\n",
    "for i in range(0, len(bigram_tokens)):\n",
    "    if bigram_tokens[i] in frequency4:\n",
    "        frequency4[bigram_tokens[i]]+=1\n",
    "    else:\n",
    "        frequency4[bigram_tokens[i]]=1\n",
    "\n",
    "for i in range(0, len(bigram_character)):\n",
    "    if bigram_character[i] in frequency5:\n",
    "        frequency5[bigram_character[i]]+=1\n",
    "    else:\n",
    "        frequency5[bigram_character[i]]=1\n",
    "\n",
    "for i in range(0, len(bigram_syllables)):\n",
    "    if bigram_syllables[i] in frequency6:\n",
    "        frequency6[bigram_syllables[i]]+=1\n",
    "    else:\n",
    "        frequency6[bigram_syllables[i]]=1"
   ]
  },
  {
   "cell_type": "code",
   "execution_count": null,
   "id": "fc28f4a3",
   "metadata": {},
   "outputs": [],
   "source": [
    "#TOKENS IN DECREASING ORDER OF FREQUENCY\n",
    "top20=sort_frequency(frequency1)\n",
    "for char, freq in top20:\n",
    "  print(char, \":\", freq)"
   ]
  },
  {
   "cell_type": "code",
   "execution_count": null,
   "id": "ca99947b",
   "metadata": {},
   "outputs": [],
   "source": [
    "#CHARACTERS IN DECREASING ORDER OF FREQUENCY\n",
    "top20=sort_frequency(frequency2)\n",
    "for char, freq in top20:\n",
    "  print(char, \":\", freq)"
   ]
  },
  {
   "cell_type": "code",
   "execution_count": null,
   "id": "f6729681",
   "metadata": {},
   "outputs": [],
   "source": [
    "#SYLLABLES IN DECREASING ORDER OF FREQUENCY\n",
    "top20=sort_frequency(frequency3)\n",
    "for char, freq in top20:\n",
    "  print(char, \":\", freq)"
   ]
  },
  {
   "cell_type": "code",
   "execution_count": null,
   "id": "ac7c4a03",
   "metadata": {},
   "outputs": [],
   "source": [
    "#TOKENS BIGRAM IN DECREASING ORDER OF FREQUENCY\n",
    "top20=sort_frequency(frequency4)\n",
    "for char, freq in top20:\n",
    "  print(char, \":\", freq)"
   ]
  },
  {
   "cell_type": "code",
   "execution_count": null,
   "id": "f2959c77",
   "metadata": {},
   "outputs": [],
   "source": [
    "#BIGRAM IN DECREASING ORDER OF FREQUENCY\n",
    "top20=sort_frequency(frequency5)\n",
    "for char, freq in top20:\n",
    "  print(char, \":\", freq)"
   ]
  },
  {
   "cell_type": "code",
   "execution_count": null,
   "id": "085e838f",
   "metadata": {},
   "outputs": [],
   "source": [
    "#SYLLABLES BIGRAM IN DECREASING ORDER OF FREQUENCY\n",
    "top20=sort_frequency(frequency6)\n",
    "for char, freq in top20:\n",
    "  print(char, \":\", freq)"
   ]
  },
  {
   "cell_type": "markdown",
   "id": "4dc09958",
   "metadata": {},
   "source": [
    "## INDICBERT MODEL MAX LENGTH=2000"
   ]
  },
  {
   "cell_type": "code",
   "execution_count": 88,
   "id": "7d7df64a",
   "metadata": {},
   "outputs": [],
   "source": [
    "\n",
    "from transformers import AutoTokenizer\n",
    "tokenizer = AutoTokenizer.from_pretrained(\"ai4bharat/indic-bert\",max_length=2000)\n"
   ]
  },
  {
   "cell_type": "code",
   "execution_count": 89,
   "id": "3d06240e",
   "metadata": {},
   "outputs": [],
   "source": [
    "file_path = \"corpus .txt\" \n",
    "with open(file_path, \"r\", encoding=\"utf-8\") as file:\n",
    "    sentence = file.read()\n",
    "tokens = tokenizer.tokenize(sentence)\n",
    "\n",
    "\n",
    "arr=[]\n",
    "\n",
    "for token in tokens:\n",
    "    if(token not in hindi_punctuation_symbols):\n",
    "        x=remove_hindi_symbol_prefix(token)\n",
    "        arr.append(x)\n",
    "  \n",
    "brr=unicoode(arr)\n",
    "crr=syllabee(brr)\n"
   ]
  },
  {
   "cell_type": "code",
   "execution_count": 90,
   "id": "388999e4",
   "metadata": {},
   "outputs": [],
   "source": [
    "bigram_tokens=[]\n",
    "bigram_character=[]\n",
    "bigram_syllables=[]\n",
    "for i in range(1,len(arr)):\n",
    "  bigram_tokens.append(arr[i-1]+arr[i])\n",
    "for i in range(0,len(brr)):\n",
    "  for j in range(1,len(brr[i])):\n",
    "    bigram_character.append(brr[i][j-1]+brr[i][j])\n",
    "for i in range(0,len(crr)):\n",
    "  for j in range(1,len(crr[i])):\n",
    "    bigram_syllables.append(crr[i][j-1]+crr[i][j])"
   ]
  },
  {
   "cell_type": "code",
   "execution_count": 91,
   "id": "72f23f8a",
   "metadata": {},
   "outputs": [],
   "source": [
    "frequency1={}\n",
    "frequency2={}\n",
    "frequency3={}\n",
    "frequency4={}\n",
    "frequency5={}\n",
    "frequency6={}\n",
    "\n",
    "for i in range(0, len(arr)):\n",
    "    if arr[i] in frequency1:\n",
    "        frequency1[arr[i]]+=1\n",
    "    else:\n",
    "        frequency1[arr[i]]=1\n",
    "\n",
    "for i in range(0, len(brr)):\n",
    "    for j in range(0, len(brr[i])):\n",
    "        if brr[i][j] in frequency2:\n",
    "            frequency2[brr[i][j]]+=1\n",
    "        else:\n",
    "            frequency2[brr[i][j]]=1\n",
    "\n",
    "for i in range(0, len(crr)):\n",
    "    for j in range(0, len(crr[i])):\n",
    "        if crr[i][j] in frequency3:\n",
    "            frequency3[crr[i][j]]+=1\n",
    "        else:\n",
    "            frequency3[crr[i][j]]=1\n",
    "\n",
    "for i in range(0, len(bigram_tokens)):\n",
    "    if bigram_tokens[i] in frequency4:\n",
    "        frequency4[bigram_tokens[i]]+=1\n",
    "    else:\n",
    "        frequency4[bigram_tokens[i]]=1\n",
    "\n",
    "for i in range(0, len(bigram_character)):\n",
    "    if bigram_character[i] in frequency5:\n",
    "        frequency5[bigram_character[i]]+=1\n",
    "    else:\n",
    "        frequency5[bigram_character[i]]=1\n",
    "\n",
    "for i in range(0, len(bigram_syllables)):\n",
    "    if bigram_syllables[i] in frequency6:\n",
    "        frequency6[bigram_syllables[i]]+=1\n",
    "    else:\n",
    "        frequency6[bigram_syllables[i]]=1"
   ]
  },
  {
   "cell_type": "code",
   "execution_count": 92,
   "id": "5103e323",
   "metadata": {},
   "outputs": [
    {
     "name": "stdout",
     "output_type": "stream",
     "text": [
      "क : 9\n",
      "ह : 8\n",
      "य : 8\n",
      "द : 5\n",
      "न : 5\n",
      "प : 4\n",
      "म : 4\n",
      "भ : 4\n",
      "k : 3\n",
      "कर : 3\n",
      "पर : 2\n",
      "च : 2\n",
      "दन : 2\n",
      "र : 2\n",
      "s : 2\n",
      "हम : 2\n",
      "ए : 2\n",
      "ज : 2\n",
      "मद : 2\n",
      "ग : 2\n"
     ]
    }
   ],
   "source": [
    "#TOKENS IN DECREASING ORDER OF FREQUENCY\n",
    "top20=sort_frequency(frequency1)\n",
    "for char, freq in top20:\n",
    "  print(char, \":\", freq)"
   ]
  },
  {
   "cell_type": "code",
   "execution_count": 93,
   "id": "31c77075",
   "metadata": {},
   "outputs": [
    {
     "name": "stdout",
     "output_type": "stream",
     "text": [
      "अ : 169\n",
      "क् : 18\n",
      "न् : 16\n",
      "र् : 15\n",
      "ह् : 15\n",
      "य् : 13\n",
      "द् : 12\n",
      "म् : 11\n",
      "प् : 10\n",
      "ल् : 10\n",
      "त् : 9\n",
      "स् : 7\n",
      "ज् : 7\n",
      "ब् : 5\n",
      "आ : 4\n",
      "व् : 4\n",
      "भ् : 4\n",
      "च् : 3\n",
      "ग् : 3\n",
      "ख् : 2\n"
     ]
    }
   ],
   "source": [
    "#CHARACTERS IN DECREASING ORDER OF FREQUENCY\n",
    "top20=sort_frequency(frequency2)\n",
    "for char, freq in top20:\n",
    "  print(char, \":\", freq)"
   ]
  },
  {
   "cell_type": "code",
   "execution_count": 94,
   "id": "e30af0c7",
   "metadata": {},
   "outputs": [
    {
     "name": "stdout",
     "output_type": "stream",
     "text": [
      "क : 18\n",
      "न : 16\n",
      "र : 15\n",
      "ह : 15\n",
      "य : 13\n",
      "द : 12\n",
      "म : 11\n",
      "प : 10\n",
      "ल : 10\n",
      "त : 9\n",
      "स : 7\n",
      "ज : 7\n",
      "ब : 5\n",
      "आ : 4\n",
      "व : 4\n",
      "भ : 4\n",
      "च : 3\n",
      "ग : 3\n",
      "ख : 2\n",
      "ए : 2\n"
     ]
    }
   ],
   "source": [
    "#SYLLABLES IN DECREASING ORDER OF FREQUENCY\n",
    "top20=sort_frequency(frequency3)\n",
    "for char, freq in top20:\n",
    "  print(char, \":\", freq)"
   ]
  },
  {
   "cell_type": "code",
   "execution_count": 96,
   "id": "ef7bb871",
   "metadata": {},
   "outputs": [
    {
     "name": "stdout",
     "output_type": "stream",
     "text": [
      "यह : 2\n",
      "गय : 2\n",
      "यथ : 2\n",
      "महजन : 2\n",
      "नक : 2\n",
      "परयश : 1\n",
      "यशह : 1\n",
      "हय : 1\n",
      "यद : 1\n",
      "दई : 1\n",
      "ईच : 1\n",
      "चद : 1\n",
      "ददल : 1\n",
      "दलच : 1\n",
      "चस : 1\n",
      "सप : 1\n",
      "पकरण : 1\n",
      "करणकस : 1\n",
      "कसह : 1\n",
      "हनद : 1\n"
     ]
    }
   ],
   "source": [
    "#TOKENS BIGRAM IN DECREASING ORDER OF FREQUENCY\n",
    "top20=sort_frequency(frequency4)\n",
    "for char, freq in top20:\n",
    "  print(char, \":\", freq)"
   ]
  },
  {
   "cell_type": "code",
   "execution_count": 97,
   "id": "6b90ca63",
   "metadata": {},
   "outputs": [
    {
     "name": "stdout",
     "output_type": "stream",
     "text": [
      "क्अ : 18\n",
      "न्अ : 16\n",
      "र्अ : 15\n",
      "ह्अ : 15\n",
      "य्अ : 13\n",
      "अर् : 12\n",
      "द्अ : 12\n",
      "म्अ : 11\n",
      "प्अ : 10\n",
      "ल्अ : 10\n",
      "अन् : 9\n",
      "त्अ : 9\n",
      "अल् : 7\n",
      "स्अ : 7\n",
      "ज्अ : 7\n",
      "ब्अ : 5\n",
      "अस् : 4\n",
      "व्अ : 4\n",
      "भ्अ : 4\n",
      "अह् : 4\n"
     ]
    }
   ],
   "source": [
    "#BIGRAM IN DECREASING ORDER OF FREQUENCY\n",
    "top20=sort_frequency(frequency5)\n",
    "for char, freq in top20:\n",
    "  print(char, \":\", freq)"
   ]
  },
  {
   "cell_type": "code",
   "execution_count": 105,
   "id": "f26c13a3",
   "metadata": {},
   "outputs": [
    {
     "name": "stdout",
     "output_type": "stream",
     "text": [
      "कर : 4\n",
      "इल : 3\n",
      "मेअं : 3\n",
      "जन : 3\n",
      "तन : 2\n",
      "हम : 2\n",
      "गया : 2\n",
      "इव : 2\n",
      "रिया : 1\n",
      "अंश : 1\n",
      "अंद : 1\n",
      "आअँ : 1\n",
      "अंस : 1\n",
      "हिन्दी : 1\n",
      "दन : 1\n",
      "रने : 1\n",
      "इर : 1\n",
      "आरी : 1\n",
      "नव : 1\n",
      "वरी : 1\n"
     ]
    }
   ],
   "source": [
    "#SYLLABLES BIGRAM IN DECREASING ORDER OF FREQUENCY\n",
    "top20=sort_frequency(frequency6)\n",
    "for char, freq in top20:\n",
    "  print(char, \":\", freq)"
   ]
  },
  {
   "cell_type": "code",
   "execution_count": 46,
   "id": "6bf04558",
   "metadata": {},
   "outputs": [],
   "source": [
    "def remove_hash(string):\n",
    "    if string.startswith('#'):\n",
    "        return string.lstrip('#')\n",
    "    else:\n",
    "        return string"
   ]
  },
  {
   "cell_type": "markdown",
   "id": "3d4e5537",
   "metadata": {},
   "source": [
    "## MBERT MODEL MAX LENGTH=1000"
   ]
  },
  {
   "cell_type": "code",
   "execution_count": 47,
   "id": "848f3197",
   "metadata": {},
   "outputs": [],
   "source": [
    "from transformers import BertTokenizer\n",
    "tokenizer = BertTokenizer.from_pretrained('bert-base-multilingual-cased',max_length=1000)"
   ]
  },
  {
   "cell_type": "code",
   "execution_count": 48,
   "id": "e15895b5",
   "metadata": {},
   "outputs": [],
   "source": [
    "file_path = \"corpus .txt\" \n",
    "with open(file_path, \"r\", encoding=\"utf-8\") as file:\n",
    "    sentence = file.read()\n",
    "tokens = tokenizer.tokenize(sentence)\n",
    "\n",
    "\n",
    "arr=[]\n",
    "\n",
    "for token in tokens:\n",
    "    if(token not in hindi_punctuation_symbols):\n",
    "        x=remove_hindi_symbol_prefix(token)\n",
    "        x=remove_hash(x)\n",
    "        arr.append(x)\n",
    "  \n",
    "brr=unicoode(arr)\n",
    "crr=syllabee(brr)\n"
   ]
  },
  {
   "cell_type": "code",
   "execution_count": 49,
   "id": "8c79ec5c",
   "metadata": {},
   "outputs": [],
   "source": [
    "bigram_tokens=[]\n",
    "bigram_character=[]\n",
    "bigram_syllables=[]\n",
    "for i in range(1,len(arr)):\n",
    "  bigram_tokens.append(arr[i-1]+arr[i])\n",
    "for i in range(0,len(brr)):\n",
    "  for j in range(1,len(brr[i])):\n",
    "    bigram_character.append(brr[i][j-1]+brr[i][j])\n",
    "for i in range(0,len(crr)):\n",
    "  for j in range(1,len(crr[i])):\n",
    "    bigram_syllables.append(crr[i][j-1]+crr[i][j])\n"
   ]
  },
  {
   "cell_type": "code",
   "execution_count": 50,
   "id": "c8e84df3",
   "metadata": {},
   "outputs": [],
   "source": [
    "frequency1={}\n",
    "frequency2={}\n",
    "frequency3={}\n",
    "frequency4={}\n",
    "frequency5={}\n",
    "frequency6={}\n",
    "\n",
    "for i in range(0, len(arr)):\n",
    "    if arr[i] in frequency1:\n",
    "        frequency1[arr[i]]+=1\n",
    "    else:\n",
    "        frequency1[arr[i]]=1\n",
    "\n",
    "for i in range(0, len(brr)):\n",
    "    for j in range(0, len(brr[i])):\n",
    "        if brr[i][j] in frequency2:\n",
    "            frequency2[brr[i][j]]+=1\n",
    "        else:\n",
    "            frequency2[brr[i][j]]=1\n",
    "\n",
    "for i in range(0, len(crr)):\n",
    "    for j in range(0, len(crr[i])):\n",
    "        if crr[i][j] in frequency3:\n",
    "            frequency3[crr[i][j]]+=1\n",
    "        else:\n",
    "            frequency3[crr[i][j]]=1\n",
    "\n",
    "for i in range(0, len(bigram_tokens)):\n",
    "    if bigram_tokens[i] in frequency4:\n",
    "        frequency4[bigram_tokens[i]]+=1\n",
    "    else:\n",
    "        frequency4[bigram_tokens[i]]=1\n",
    "\n",
    "for i in range(0, len(bigram_character)):\n",
    "    if bigram_character[i] in frequency5:\n",
    "        frequency5[bigram_character[i]]+=1\n",
    "    else:\n",
    "        frequency5[bigram_character[i]]=1\n",
    "\n",
    "for i in range(0, len(bigram_syllables)):\n",
    "    if bigram_syllables[i] in frequency6:\n",
    "        frequency6[bigram_syllables[i]]+=1\n",
    "    else:\n",
    "        frequency6[bigram_syllables[i]]=1"
   ]
  },
  {
   "cell_type": "code",
   "execution_count": 51,
   "id": "d12930e6",
   "metadata": {},
   "outputs": [
    {
     "name": "stdout",
     "output_type": "stream",
     "text": [
      "के : 347164\n",
      "स : 330691\n",
      "प : 314836\n",
      "म : 305742\n",
      "र : 301686\n",
      "ब : 259624\n",
      "में : 246133\n",
      "न : 235575\n",
      "है : 215601\n",
      "की : 213189\n",
      "ा : 205239\n",
      "क : 193113\n",
      "ल : 187736\n",
      "को : 173966\n",
      "ी : 173352\n",
      "ने : 172673\n",
      "से : 165303\n",
      "का : 164733\n",
      "ज : 151362\n",
      "अ : 133611\n"
     ]
    }
   ],
   "source": [
    "#TOKENS IN DECREASING ORDER OF FREQUENCY\n",
    "top20=sort_frequency(frequency1)\n",
    "for char, freq in top20:\n",
    "  print(char, \":\", freq)"
   ]
  },
  {
   "cell_type": "code",
   "execution_count": 52,
   "id": "56ecc6d1",
   "metadata": {},
   "outputs": [
    {
     "name": "stdout",
     "output_type": "stream",
     "text": [
      "अ : 10646829\n",
      "आ : 2990653\n",
      "ए : 2317707\n",
      "क् : 2220811\n",
      "र् : 2115389\n",
      "ई : 1460093\n",
      "इ : 1432830\n",
      "न् : 1334247\n",
      "स् : 1283571\n",
      "अं : 1201081\n",
      "ह् : 1133069\n",
      "म् : 1053101\n",
      "त् : 979855\n",
      "ल् : 919790\n",
      "ओ : 896299\n",
      "प् : 805642\n",
      "य् : 753100\n",
      "व् : 624631\n",
      "द् : 607566\n",
      "उ : 586985\n"
     ]
    }
   ],
   "source": [
    "#CHARACTERS IN DECREASING ORDER OF FREQUENCY\n",
    "top20=sort_frequency(frequency2)\n",
    "for char, freq in top20:\n",
    "  print(char, \":\", freq)"
   ]
  },
  {
   "cell_type": "code",
   "execution_count": 53,
   "id": "e4c55d60",
   "metadata": {},
   "outputs": [
    {
     "name": "stdout",
     "output_type": "stream",
     "text": [
      "र : 1517850\n",
      "अं : 1105222\n",
      "क : 777626\n",
      "स : 758145\n",
      "न : 730575\n",
      "आ : 722185\n",
      "इ : 716029\n",
      "प : 604726\n",
      "ए : 573906\n",
      "म : 521654\n",
      "ल : 496796\n",
      "त : 439300\n",
      "उ : 411135\n",
      "के : 397115\n",
      "ब : 380666\n",
      "ह : 352273\n",
      "ग : 348680\n",
      "ओ : 338416\n",
      "ई : 332927\n",
      "ने : 306558\n"
     ]
    }
   ],
   "source": [
    "#SYLLABLES IN DECREASING ORDER OF FREQUENCY\n",
    "top20=sort_frequency(frequency3)\n",
    "for char, freq in top20:\n",
    "  print(char, \":\", freq)"
   ]
  },
  {
   "cell_type": "code",
   "execution_count": 54,
   "id": "a29063d6",
   "metadata": {},
   "outputs": [
    {
     "name": "stdout",
     "output_type": "stream",
     "text": [
      "केलिए : 44091\n",
      "प्र : 38159\n",
      "आप : 26605\n",
      "हैकि : 25762\n",
      "केसाथ : 18560\n",
      "मु : 18220\n",
      "ोंके : 17264\n",
      "सम : 16878\n",
      "सु : 16326\n",
      "कहाकि : 16141\n",
      "बता : 15907\n",
      "सा : 15568\n",
      "ोंमें : 15470\n",
      "जर : 14581\n",
      "केबाद : 14487\n",
      "ोंको : 13859\n",
      "पुल : 13842\n",
      "मो : 13677\n",
      "मौ : 13205\n",
      "ुलिस : 12630\n"
     ]
    }
   ],
   "source": [
    "#TOKENS BIGRAM IN DECREASING ORDER OF FREQUENCY\n",
    "top20=sort_frequency(frequency4)\n",
    "for char, freq in top20:\n",
    "  print(char, \":\", freq)"
   ]
  },
  {
   "cell_type": "code",
   "execution_count": 55,
   "id": "452ca535",
   "metadata": {},
   "outputs": [
    {
     "name": "stdout",
     "output_type": "stream",
     "text": [
      "र्अ : 1633762\n",
      "क्अ : 783243\n",
      "स्अ : 764871\n",
      "न्अ : 734326\n",
      "प्अ : 611585\n",
      "अर् : 598163\n",
      "म्अ : 542686\n",
      "ल्अ : 497419\n",
      "त्अ : 495102\n",
      "क्ए : 397142\n",
      "ब्अ : 383609\n",
      "ह्अ : 352837\n",
      "ग्अ : 352622\n",
      "य्अ : 338215\n",
      "एअं : 321619\n",
      "व्अ : 310499\n",
      "न्ए : 306789\n",
      "आर् : 304446\n",
      "अन् : 301613\n",
      "ज्अ : 301061\n"
     ]
    }
   ],
   "source": [
    "#BIGRAM IN DECREASING ORDER OF FREQUENCY\n",
    "top20=sort_frequency(frequency5)\n",
    "for char, freq in top20:\n",
    "  print(char, \":\", freq)"
   ]
  },
  {
   "cell_type": "code",
   "execution_count": 56,
   "id": "6cd46f3b",
   "metadata": {},
   "outputs": [
    {
     "name": "stdout",
     "output_type": "stream",
     "text": [
      "मेअं : 254770\n",
      "कर : 205211\n",
      "पर : 127278\n",
      "और : 125190\n",
      "इस : 119332\n",
      "ओअं : 118355\n",
      "हैअं : 80609\n",
      "एक : 67766\n",
      "अंग : 54850\n",
      "लिए : 53250\n",
      "एअं : 50535\n",
      "नही : 47362\n",
      "हीअं : 47362\n",
      "कार : 47088\n",
      "ड़ : 45034\n",
      "आर : 44496\n",
      "उन : 44145\n",
      "इन : 42615\n",
      "इक : 41972\n",
      "[] : 40606\n"
     ]
    }
   ],
   "source": [
    "#SYLLABLES BIGRAM IN DECREASING ORDER OF FREQUENCY\n",
    "top20=sort_frequency(frequency6)\n",
    "for char, freq in top20:\n",
    "  print(char, \":\", freq)"
   ]
  },
  {
   "cell_type": "markdown",
   "id": "ac4cb416",
   "metadata": {},
   "source": [
    "## MBERT MODEL MAX LENGTH=2000\n"
   ]
  },
  {
   "cell_type": "code",
   "execution_count": 57,
   "id": "6d11d722",
   "metadata": {},
   "outputs": [],
   "source": [
    "from transformers import BertTokenizer\n",
    "\n",
    "tokenizer = BertTokenizer.from_pretrained('bert-base-multilingual-cased',max_length=2000)"
   ]
  },
  {
   "cell_type": "code",
   "execution_count": 58,
   "id": "bb2d4a8f",
   "metadata": {},
   "outputs": [],
   "source": [
    "file_path = \"corpus .txt\" \n",
    "with open(file_path, \"r\", encoding=\"utf-8\") as file:\n",
    "    sentence = file.read()\n",
    "tokens = tokenizer.tokenize(sentence)\n",
    "\n",
    "\n",
    "arr=[]\n",
    "\n",
    "for token in tokens:\n",
    "    if(token not in hindi_punctuation_symbols):\n",
    "        x=remove_hindi_symbol_prefix(token)\n",
    "        x=remove_hash(x)\n",
    "        arr.append(x)\n",
    "  \n",
    "brr=unicoode(arr)\n",
    "crr=syllabee(brr)\n"
   ]
  },
  {
   "cell_type": "code",
   "execution_count": 59,
   "id": "deefb1a4",
   "metadata": {},
   "outputs": [],
   "source": [
    "bigram_tokens=[]\n",
    "bigram_character=[]\n",
    "bigram_syllables=[]\n",
    "for i in range(1,len(arr)):\n",
    "  bigram_tokens.append(arr[i-1]+arr[i])\n",
    "for i in range(0,len(brr)):\n",
    "  for j in range(1,len(brr[i])):\n",
    "    bigram_character.append(brr[i][j-1]+brr[i][j])\n",
    "for i in range(0,len(crr)):\n",
    "  for j in range(1,len(crr[i])):\n",
    "    bigram_syllables.append(crr[i][j-1]+crr[i][j])"
   ]
  },
  {
   "cell_type": "code",
   "execution_count": 60,
   "id": "406cbd23",
   "metadata": {},
   "outputs": [],
   "source": [
    "frequency1={}\n",
    "frequency2={}\n",
    "frequency3={}\n",
    "frequency4={}\n",
    "frequency5={}\n",
    "frequency6={}\n",
    "\n",
    "for i in range(0, len(arr)):\n",
    "    if arr[i] in frequency1:\n",
    "        frequency1[arr[i]]+=1\n",
    "    else:\n",
    "        frequency1[arr[i]]=1\n",
    "\n",
    "for i in range(0, len(brr)):\n",
    "    for j in range(0, len(brr[i])):\n",
    "        if brr[i][j] in frequency2:\n",
    "            frequency2[brr[i][j]]+=1\n",
    "        else:\n",
    "            frequency2[brr[i][j]]=1\n",
    "\n",
    "for i in range(0, len(crr)):\n",
    "    for j in range(0, len(crr[i])):\n",
    "        if crr[i][j] in frequency3:\n",
    "            frequency3[crr[i][j]]+=1\n",
    "        else:\n",
    "            frequency3[crr[i][j]]=1\n",
    "\n",
    "for i in range(0, len(bigram_tokens)):\n",
    "    if bigram_tokens[i] in frequency4:\n",
    "        frequency4[bigram_tokens[i]]+=1\n",
    "    else:\n",
    "        frequency4[bigram_tokens[i]]=1\n",
    "\n",
    "for i in range(0, len(bigram_character)):\n",
    "    if bigram_character[i] in frequency5:\n",
    "        frequency5[bigram_character[i]]+=1\n",
    "    else:\n",
    "        frequency5[bigram_character[i]]=1\n",
    "\n",
    "for i in range(0, len(bigram_syllables)):\n",
    "    if bigram_syllables[i] in frequency6:\n",
    "        frequency6[bigram_syllables[i]]+=1\n",
    "    else:\n",
    "        frequency6[bigram_syllables[i]]=1"
   ]
  },
  {
   "cell_type": "code",
   "execution_count": 61,
   "id": "8e61fba6",
   "metadata": {},
   "outputs": [
    {
     "name": "stdout",
     "output_type": "stream",
     "text": [
      "के : 347164\n",
      "स : 330691\n",
      "प : 314836\n",
      "म : 305742\n",
      "र : 301686\n",
      "ब : 259624\n",
      "में : 246133\n",
      "न : 235575\n",
      "है : 215601\n",
      "की : 213189\n",
      "ा : 205239\n",
      "क : 193113\n",
      "ल : 187736\n",
      "को : 173966\n",
      "ी : 173352\n",
      "ने : 172673\n",
      "से : 165303\n",
      "का : 164733\n",
      "ज : 151362\n",
      "अ : 133611\n"
     ]
    }
   ],
   "source": [
    "#TOKENS IN DECREASING ORDER OF FREQUENCY\n",
    "top20=sort_frequency(frequency1)\n",
    "for char, freq in top20:\n",
    "  print(char, \":\", freq)"
   ]
  },
  {
   "cell_type": "code",
   "execution_count": 62,
   "id": "754b4c3e",
   "metadata": {},
   "outputs": [
    {
     "name": "stdout",
     "output_type": "stream",
     "text": [
      "अ : 10646829\n",
      "आ : 2990653\n",
      "ए : 2317707\n",
      "क् : 2220811\n",
      "र् : 2115389\n",
      "ई : 1460093\n",
      "इ : 1432830\n",
      "न् : 1334247\n",
      "स् : 1283571\n",
      "अं : 1201081\n",
      "ह् : 1133069\n",
      "म् : 1053101\n",
      "त् : 979855\n",
      "ल् : 919790\n",
      "ओ : 896299\n",
      "प् : 805642\n",
      "य् : 753100\n",
      "व् : 624631\n",
      "द् : 607566\n",
      "उ : 586985\n"
     ]
    }
   ],
   "source": [
    "#CHARACTERS IN DECREASING ORDER OF FREQUENCY\n",
    "top20=sort_frequency(frequency2)\n",
    "for char, freq in top20:\n",
    "  print(char, \":\", freq)\n"
   ]
  },
  {
   "cell_type": "code",
   "execution_count": 63,
   "id": "84688a2f",
   "metadata": {},
   "outputs": [
    {
     "name": "stdout",
     "output_type": "stream",
     "text": [
      "र : 1517850\n",
      "अं : 1105222\n",
      "क : 777626\n",
      "स : 758145\n",
      "न : 730575\n",
      "आ : 722185\n",
      "इ : 716029\n",
      "प : 604726\n",
      "ए : 573906\n",
      "म : 521654\n",
      "ल : 496796\n",
      "त : 439300\n",
      "उ : 411135\n",
      "के : 397115\n",
      "ब : 380666\n",
      "ह : 352273\n",
      "ग : 348680\n",
      "ओ : 338416\n",
      "ई : 332927\n",
      "ने : 306558\n"
     ]
    }
   ],
   "source": [
    "#SYLLABLES IN DECREASING ORDER OF FREQUENCY\n",
    "top20=sort_frequency(frequency3)\n",
    "for char, freq in top20:\n",
    "  print(char, \":\", freq)"
   ]
  },
  {
   "cell_type": "code",
   "execution_count": 64,
   "id": "85283645",
   "metadata": {},
   "outputs": [
    {
     "name": "stdout",
     "output_type": "stream",
     "text": [
      "केलिए : 44091\n",
      "प्र : 38159\n",
      "आप : 26605\n",
      "हैकि : 25762\n",
      "केसाथ : 18560\n",
      "मु : 18220\n",
      "ोंके : 17264\n",
      "सम : 16878\n",
      "सु : 16326\n",
      "कहाकि : 16141\n",
      "बता : 15907\n",
      "सा : 15568\n",
      "ोंमें : 15470\n",
      "जर : 14581\n",
      "केबाद : 14487\n",
      "ोंको : 13859\n",
      "पुल : 13842\n",
      "मो : 13677\n",
      "मौ : 13205\n",
      "ुलिस : 12630\n"
     ]
    }
   ],
   "source": [
    "#TOKENS BIGRAM IN DECREASING ORDER OF FREQUENCY\n",
    "top20=sort_frequency(frequency4)\n",
    "for char, freq in top20:\n",
    "  print(char, \":\", freq)"
   ]
  },
  {
   "cell_type": "code",
   "execution_count": 65,
   "id": "76017f57",
   "metadata": {},
   "outputs": [
    {
     "name": "stdout",
     "output_type": "stream",
     "text": [
      "र्अ : 1633762\n",
      "क्अ : 783243\n",
      "स्अ : 764871\n",
      "न्अ : 734326\n",
      "प्अ : 611585\n",
      "अर् : 598163\n",
      "म्अ : 542686\n",
      "ल्अ : 497419\n",
      "त्अ : 495102\n",
      "क्ए : 397142\n",
      "ब्अ : 383609\n",
      "ह्अ : 352837\n",
      "ग्अ : 352622\n",
      "य्अ : 338215\n",
      "एअं : 321619\n",
      "व्अ : 310499\n",
      "न्ए : 306789\n",
      "आर् : 304446\n",
      "अन् : 301613\n",
      "ज्अ : 301061\n"
     ]
    }
   ],
   "source": [
    "#BIGRAM IN DECREASING ORDER OF FREQUENCY\n",
    "top20=sort_frequency(frequency5)\n",
    "for char, freq in top20:\n",
    "  print(char, \":\", freq)"
   ]
  },
  {
   "cell_type": "code",
   "execution_count": 66,
   "id": "8e1c3f93",
   "metadata": {},
   "outputs": [
    {
     "name": "stdout",
     "output_type": "stream",
     "text": [
      "मेअं : 254770\n",
      "कर : 205211\n",
      "पर : 127278\n",
      "और : 125190\n",
      "इस : 119332\n",
      "ओअं : 118355\n",
      "हैअं : 80609\n",
      "एक : 67766\n",
      "अंग : 54850\n",
      "लिए : 53250\n",
      "एअं : 50535\n",
      "नही : 47362\n",
      "हीअं : 47362\n",
      "कार : 47088\n",
      "ड़ : 45034\n",
      "आर : 44496\n",
      "उन : 44145\n",
      "इन : 42615\n",
      "इक : 41972\n",
      "[] : 40606\n"
     ]
    }
   ],
   "source": [
    "#SYLLABLES BIGRAM IN DECREASING ORDER OF FREQUENCY\n",
    "top20=sort_frequency(frequency6)\n",
    "for char, freq in top20:\n",
    "  print(char, \":\", freq)"
   ]
  }
 ],
 "metadata": {
  "kernelspec": {
   "display_name": "Python 3 (ipykernel)",
   "language": "python",
   "name": "python3"
  },
  "language_info": {
   "codemirror_mode": {
    "name": "ipython",
    "version": 3
   },
   "file_extension": ".py",
   "mimetype": "text/x-python",
   "name": "python",
   "nbconvert_exporter": "python",
   "pygments_lexer": "ipython3",
   "version": "3.11.5"
  }
 },
 "nbformat": 4,
 "nbformat_minor": 5
}
