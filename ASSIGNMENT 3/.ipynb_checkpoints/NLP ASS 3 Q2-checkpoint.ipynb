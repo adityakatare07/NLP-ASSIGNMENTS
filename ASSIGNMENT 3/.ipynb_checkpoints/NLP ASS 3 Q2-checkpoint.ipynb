{
 "cells": [
  {
   "cell_type": "markdown",
   "id": "92ecb667-bc86-480a-ba82-346d647bedf1",
   "metadata": {},
   "source": [
    "## EXTRACTED FILES"
   ]
  },
  {
   "cell_type": "code",
   "execution_count": 2,
   "id": "65a8aa6a-820c-473a-88cc-465bc2705267",
   "metadata": {},
   "outputs": [],
   "source": [
    "def read_f_l(filename):\n",
    "    with open(filename, 'r', encoding='utf-8') as file:\n",
    "        lines = [next(file).strip() for _ in range(50)]\n",
    "    return lines\n",
    "\n",
    "\n",
    "# Usage\n",
    "filename = r\"C:\\Users\\adity\\OneDrive\\Documents\\Desktop\\nlp ass 3\\extracted_guj2.txt\" # replace with your filename\n",
    "guj1000 = read_f_l(filename)\n",
    "filename = r\"C:\\Users\\adity\\OneDrive\\Documents\\Desktop\\nlp ass 3\\extracted_hi.txt\"  # replace with your filename\n",
    "hi1000 = read_f_l(filename)\n",
    "filename = r\"C:\\Users\\adity\\OneDrive\\Documents\\Desktop\\nlp ass 3\\extracted_eng.txt\"  # replace with your filename\n",
    "en1000 = read_f_l(filename)\n"
   ]
  },
  {
   "cell_type": "markdown",
   "id": "32b2be2d-f052-4d5b-97b8-528b769cf0a5",
   "metadata": {},
   "source": [
    "## TRANSLATED TEXT FILES BY NLLB MODEL"
   ]
  },
  {
   "cell_type": "code",
   "execution_count": 3,
   "id": "b2a8e213-a7d9-4046-b4c3-2583f7531fe7",
   "metadata": {},
   "outputs": [],
   "source": [
    "filename = r\"C:\\Users\\adity\\OneDrive\\Documents\\Desktop\\nlp ass 3\\english_to_hindi_translations.txt\" # replace with your filename\n",
    "eng_to_hi_1a = read_f_l(filename)\n",
    "filename = r\"C:\\Users\\adity\\OneDrive\\Documents\\Desktop\\nlp ass 3\\hindi_to_english_translations.txt\"  # replace with your filename\n",
    "hi_to_eng_1a = read_f_l(filename)\n",
    "filename = r\"C:\\Users\\adity\\OneDrive\\Documents\\Desktop\\nlp ass 3\\hindi_to_gujrati_translations.txt\"  # replace with your filename\n",
    "hi_to_guj_1a = read_f_l(filename)\n",
    "filename = r\"C:\\Users\\adity\\OneDrive\\Documents\\Desktop\\nlp ass 3\\gujrati_to_hindi_translations.txt\"  # replace with your filename\n",
    "guj_to_hi_1a = read_f_l(filename)\n"
   ]
  },
  {
   "cell_type": "markdown",
   "id": "0a24138c-220d-45ce-935f-7676144d9868",
   "metadata": {},
   "source": [
    "## TRANSLATED TEXT FILES BY INDICTRANS MODEL"
   ]
  },
  {
   "cell_type": "code",
   "execution_count": 4,
   "id": "dbbfef61-5280-45cc-97d7-720713e3af02",
   "metadata": {},
   "outputs": [],
   "source": [
    "filename = r\"C:\\Users\\adity\\OneDrive\\Documents\\Desktop\\nlp ass 3\\engg_to_hin_1B.txt\"# replace with your filename\n",
    "eng_to_hi_1b = read_f_l(filename)\n",
    "filename = r\"C:\\Users\\adity\\OneDrive\\Documents\\Desktop\\nlp ass 3\\hin_to_eng_1B.txt\"  # replace with your filename\n",
    "hi_to_eng_1b = read_f_l(filename)\n",
    "filename = r\"C:\\Users\\adity\\OneDrive\\Documents\\Desktop\\nlp ass 3\\hin_to_guj_1B.txt\"  # replace with your filename\n",
    "hi_to_guj_1b = read_f_l(filename)\n",
    "filename = r\"C:\\Users\\adity\\OneDrive\\Documents\\Desktop\\nlp ass 3\\guj_to_hin_1B.txt\"  # replace with your filename\n",
    "guj_to_hi_1b = read_f_l(filename)"
   ]
  },
  {
   "cell_type": "markdown",
   "id": "18274943-f53f-41dc-8bae-3f7105eba412",
   "metadata": {},
   "source": [
    "## TEXT FILES FOR CHATGPT"
   ]
  },
  {
   "cell_type": "code",
   "execution_count": 5,
   "id": "061eb402-fad2-4b3d-a100-b6b1c215603a",
   "metadata": {},
   "outputs": [],
   "source": [
    "filename = r\"C:\\Users\\adity\\OneDrive\\Documents\\Desktop\\nlp ass 3\\gujrati60.txt\" # replace with your filename\n",
    "guj60 = read_f_l(filename)\n",
    "filename = r\"C:\\Users\\adity\\OneDrive\\Documents\\Desktop\\nlp ass 3\\hindi60.txt\"  # replace with your filename\n",
    "hi60 = read_f_l(filename)\n",
    "filename = r\"C:\\Users\\adity\\OneDrive\\Documents\\Desktop\\nlp ass 3\\english60.txt\"  # replace with your filename\n",
    "en60 = read_f_l(filename)"
   ]
  },
  {
   "cell_type": "markdown",
   "id": "14cf3d3e-02a1-49a9-b74f-b53e0142746e",
   "metadata": {},
   "source": [
    "## TRANSLATED TEXT FILES BY CHATGPT "
   ]
  },
  {
   "cell_type": "code",
   "execution_count": 6,
   "id": "97451fba-3d55-41af-8975-2804a9bafb9d",
   "metadata": {},
   "outputs": [],
   "source": [
    "filename = r\"C:\\Users\\adity\\OneDrive\\Documents\\Desktop\\nlp ass 3\\eng to hin chatgpt.txt\"# replace with your filename\n",
    "eng_to_hi_1c = read_f_l(filename)\n",
    "filename = r\"C:\\Users\\adity\\OneDrive\\Documents\\Desktop\\nlp ass 3\\hindi to english chatgpt.txt\"  # replace with your filename\n",
    "hi_to_eng_1c = read_f_l(filename)\n",
    "filename = r\"C:\\Users\\adity\\OneDrive\\Documents\\Desktop\\nlp ass 3\\hindi to gujrati chatgpt.txt\"  # replace with your filename\n",
    "hi_to_guj_1c = read_f_l(filename)\n",
    "filename = r\"C:\\Users\\adity\\OneDrive\\Documents\\Desktop\\nlp ass 3\\guj to hindi chatgpt.txt\"  # replace with your filename\n",
    "guj_to_hi_1c = read_f_l(filename)"
   ]
  },
  {
   "cell_type": "code",
   "execution_count": 7,
   "id": "8e1573e6-9c92-4b37-8d90-2180bdf9301a",
   "metadata": {},
   "outputs": [
    {
     "name": "stdout",
     "output_type": "stream",
     "text": [
      "Requirement already satisfied: rouge in c:\\users\\adity\\anaconda3\\lib\\site-packages (1.0.1)\n",
      "Requirement already satisfied: six in c:\\users\\adity\\anaconda3\\lib\\site-packages (from rouge) (1.16.0)\n",
      "Note: you may need to restart the kernel to use updated packages.\n"
     ]
    }
   ],
   "source": [
    "pip install rouge"
   ]
  },
  {
   "cell_type": "code",
   "execution_count": 8,
   "id": "e1fda328-0cf5-45e1-9177-d43fd2ccbcf2",
   "metadata": {},
   "outputs": [],
   "source": [
    "from nltk.translate.bleu_score import sentence_bleu, corpus_bleu\n",
    "from rouge import Rouge\n",
    "\n",
    "def calculate_scores(references, hypotheses):\n",
    "    bleu_score = corpus_bleu([[ref] for ref in references], hypotheses)\n",
    "    rouge = Rouge()\n",
    "    rouge_scores = rouge.get_scores(hypotheses, references, avg=True)\n",
    "    return bleu_score, rouge_scores"
   ]
  },
  {
   "cell_type": "markdown",
   "id": "1402cbdc-6dfb-4379-a4f9-404a424b1ec6",
   "metadata": {},
   "source": [
    "## BLUE AND ROUGE SCORE (NLLB MODEL)"
   ]
  },
  {
   "cell_type": "code",
   "execution_count": 9,
   "id": "c02a7ca8-bfb9-4ac0-8fe0-756c85bc1265",
   "metadata": {},
   "outputs": [
    {
     "name": "stdout",
     "output_type": "stream",
     "text": [
      "BLEU, ROUGE scores of ENGLISH TO HINDI translation 0.6065128372507262 {'rouge-1': {'r': 0.5706119284388904, 'p': 0.6144281558654625, 'f': 0.5862622249961537}, 'rouge-2': {'r': 0.302513931966219, 'p': 0.3388366427174476, 'f': 0.3162856745174023}, 'rouge-l': {'r': 0.5325336003342462, 'p': 0.5741863360237973, 'f': 0.5476835926704251}}\n",
      "BLEU, ROUGE scores of HINDI TO ENGLISH translation 0.6439048637277325 {'rouge-1': {'r': 0.5855669783600818, 'p': 0.5986730346350081, 'f': 0.5857260813647515}, 'rouge-2': {'r': 0.3583229140140903, 'p': 0.3541118202440386, 'f': 0.35200621553424016}, 'rouge-l': {'r': 0.5534267644871091, 'p': 0.5644578265880933, 'f': 0.5529020171547124}}\n",
      "BLEU, ROUGE scores of HINDI TO GUJRATI translation 0.5257197381238974 {'rouge-1': {'r': 0.4428760155766819, 'p': 0.49721721853997386, 'f': 0.46385306799580384}, 'rouge-2': {'r': 0.17817950875495625, 'p': 0.20340615009345658, 'f': 0.18738960784473854}, 'rouge-l': {'r': 0.4138780218301016, 'p': 0.46286606822829723, 'f': 0.4326547192516596}}\n",
      "BLEU, ROUGE scores of GUJRATI TO HINDI TRANSLATION 0.614861662688736 {'rouge-1': {'r': 0.5772311956955416, 'p': 0.6205287137698903, 'f': 0.5941032170947391}, 'rouge-2': {'r': 0.3295313571048304, 'p': 0.35824022314115206, 'f': 0.34046435109331336}, 'rouge-l': {'r': 0.5395155031232062, 'p': 0.5778056672945219, 'f': 0.5544068299050968}}\n"
     ]
    }
   ],
   "source": [
    "BLEU_en_hi, ROUGE_en_hi = calculate_scores(hi1000, eng_to_hi_1a)\n",
    "BLEU_hi_en, ROUGE_hi_en = calculate_scores(en1000, hi_to_eng_1a)\n",
    "BLEU_hi_gu, ROUGE_hi_gu = calculate_scores(guj1000, hi_to_guj_1a)\n",
    "BLEU_gu_hi, ROUGE_gu_hi = calculate_scores(hi1000, guj_to_hi_1a)\n",
    "print(\"BLEU, ROUGE scores of ENGLISH TO HINDI translation\", BLEU_en_hi, ROUGE_en_hi) \n",
    "print(\"BLEU, ROUGE scores of HINDI TO ENGLISH translation\", BLEU_hi_en, ROUGE_hi_en)\n",
    "print(\"BLEU, ROUGE scores of HINDI TO GUJRATI translation\", BLEU_hi_gu, ROUGE_hi_gu)\n",
    "print(\"BLEU, ROUGE scores of GUJRATI TO HINDI TRANSLATION\", BLEU_gu_hi, ROUGE_gu_hi)"
   ]
  },
  {
   "cell_type": "markdown",
   "id": "579666d3-22ab-46b7-9693-453004a8e405",
   "metadata": {},
   "source": [
    "## BLUE AND ROUGE SCORE (INDICTRANS MODEL)"
   ]
  },
  {
   "cell_type": "code",
   "execution_count": 10,
   "id": "53935842-d60d-492d-9e82-5b585c12f7f9",
   "metadata": {},
   "outputs": [
    {
     "name": "stdout",
     "output_type": "stream",
     "text": [
      "BLEU, ROUGE scores of ENGLISH TO HINDI translation 0.6821452360134566 {'rouge-1': {'r': 0.6030285497264734, 'p': 0.6154406012014698, 'f': 0.6051363691112556}, 'rouge-2': {'r': 0.3394067599715105, 'p': 0.3465930484036601, 'f': 0.3405949366259628}, 'rouge-l': {'r': 0.5687423574484921, 'p': 0.5805335887093177, 'f': 0.57094093050081}}\n",
      "BLEU, ROUGE scores of HINDI TO ENGLISH translation 0.7327992836498614 {'rouge-1': {'r': 0.6396567586871847, 'p': 0.6267456436811868, 'f': 0.6293548767472327}, 'rouge-2': {'r': 0.3964360002742356, 'p': 0.38311139199637656, 'f': 0.3863722153567471}, 'rouge-l': {'r': 0.6059204857009116, 'p': 0.5950419732157585, 'f': 0.5967577800692226}}\n",
      "BLEU, ROUGE scores of HINDI TO GUJRATI translation 0.6051881680678772 {'rouge-1': {'r': 0.4496892058525522, 'p': 0.4609621379652339, 'f': 0.4517460179526616}, 'rouge-2': {'r': 0.20127905931432655, 'p': 0.20928665641204336, 'f': 0.2033805374695406}, 'rouge-l': {'r': 0.42327536479538763, 'p': 0.43514001246431583, 'f': 0.4257063405416354}}\n",
      "BLEU, ROUGE scores of GUJRATI TO HINDI TRANSLATION 0.6374082508130335 {'rouge-1': {'r': 0.5820671395336392, 'p': 0.5760947669613106, 'f': 0.5747325709871014}, 'rouge-2': {'r': 0.3268932410669209, 'p': 0.3289005264086004, 'f': 0.3250023864481644}, 'rouge-l': {'r': 0.553413984728647, 'p': 0.5478632830659399, 'f': 0.5463846680819444}}\n"
     ]
    }
   ],
   "source": [
    "BLEU_en_hi, ROUGE_en_hi = calculate_scores(hi1000, eng_to_hi_1b)\n",
    "BLEU_hi_en, ROUGE_hi_en = calculate_scores(en1000, hi_to_eng_1b)\n",
    "BLEU_hi_gu, ROUGE_hi_gu = calculate_scores(guj1000, hi_to_guj_1b)\n",
    "BLEU_gu_hi, ROUGE_gu_hi = calculate_scores(hi1000, guj_to_hi_1b)\n",
    "print(\"BLEU, ROUGE scores of ENGLISH TO HINDI translation\", BLEU_en_hi, ROUGE_en_hi) \n",
    "print(\"BLEU, ROUGE scores of HINDI TO ENGLISH translation\", BLEU_hi_en, ROUGE_hi_en)\n",
    "print(\"BLEU, ROUGE scores of HINDI TO GUJRATI translation\", BLEU_hi_gu, ROUGE_hi_gu)\n",
    "print(\"BLEU, ROUGE scores of GUJRATI TO HINDI TRANSLATION\", BLEU_gu_hi, ROUGE_gu_hi)"
   ]
  },
  {
   "cell_type": "markdown",
   "id": "344b8ea0-fd02-4bb6-a12f-57e002eff491",
   "metadata": {},
   "source": [
    "## BLUE AND ROUGE SCORE (CHATGPT)"
   ]
  },
  {
   "cell_type": "code",
   "execution_count": 11,
   "id": "d94f1bf8-4af5-4a39-acf0-f6fcb88c2ff0",
   "metadata": {},
   "outputs": [
    {
     "name": "stdout",
     "output_type": "stream",
     "text": [
      "BLEU, ROUGE scores of ENGLISH TO HINDI translation 0.700916887531589 {'rouge-1': {'r': 0.6230378693803614, 'p': 0.6253975165084837, 'f': 0.6208908453290817}, 'rouge-2': {'r': 0.373597830079933, 'p': 0.37667412940245676, 'f': 0.37262927311869737}, 'rouge-l': {'r': 0.5885996624503657, 'p': 0.5908725706286951, 'f': 0.5867042698520155}}\n",
      "BLEU, ROUGE scores of HINDI TO ENGLISH translation 0.6415102745971248 {'rouge-1': {'r': 0.560574917100779, 'p': 0.5502800241038631, 'f': 0.5501718535443298}, 'rouge-2': {'r': 0.30387034942182, 'p': 0.29459512134586174, 'f': 0.29547425478106243}, 'rouge-l': {'r': 0.5287811438242472, 'p': 0.5205049883381154, 'f': 0.5195952936069012}}\n",
      "BLEU, ROUGE scores of HINDI TO GUJRATI translation 0.5835465234189062 {'rouge-1': {'r': 0.4620322538471685, 'p': 0.47210898255745704, 'f': 0.4635371219128887}, 'rouge-2': {'r': 0.22709992138774612, 'p': 0.23349622158475974, 'f': 0.22829546077071952}, 'rouge-l': {'r': 0.44703926034630037, 'p': 0.4557444792715981, 'f': 0.4479485298088919}}\n",
      "BLEU, ROUGE scores of GUJRATI TO HINDI TRANSLATION 0.7010821754682657 {'rouge-1': {'r': 0.6452582880020623, 'p': 0.6426019869743286, 'f': 0.6417722061723051}, 'rouge-2': {'r': 0.41105649764176166, 'p': 0.41254314821770066, 'f': 0.4097097216842125}, 'rouge-l': {'r': 0.6189316129870042, 'p': 0.6173875184363304, 'f': 0.6160872910564141}}\n"
     ]
    }
   ],
   "source": [
    "BLEU_en_hi, ROUGE_en_hi = calculate_scores(hi60, eng_to_hi_1c)\n",
    "BLEU_hi_en, ROUGE_hi_en = calculate_scores(en60, hi_to_eng_1c)\n",
    "BLEU_hi_gu, ROUGE_hi_gu = calculate_scores(guj60, hi_to_guj_1c)\n",
    "BLEU_gu_hi, ROUGE_gu_hi = calculate_scores(hi60, guj_to_hi_1c)\n",
    "print(\"BLEU, ROUGE scores of ENGLISH TO HINDI translation\", BLEU_en_hi, ROUGE_en_hi) \n",
    "print(\"BLEU, ROUGE scores of HINDI TO ENGLISH translation\", BLEU_hi_en, ROUGE_hi_en)\n",
    "print(\"BLEU, ROUGE scores of HINDI TO GUJRATI translation\", BLEU_hi_gu, ROUGE_hi_gu)\n",
    "print(\"BLEU, ROUGE scores of GUJRATI TO HINDI TRANSLATION\", BLEU_gu_hi, ROUGE_gu_hi)"
   ]
  }
 ],
 "metadata": {
  "kernelspec": {
   "display_name": "Python 3 (ipykernel)",
   "language": "python",
   "name": "python3"
  },
  "language_info": {
   "codemirror_mode": {
    "name": "ipython",
    "version": 3
   },
   "file_extension": ".py",
   "mimetype": "text/x-python",
   "name": "python",
   "nbconvert_exporter": "python",
   "pygments_lexer": "ipython3",
   "version": "3.11.7"
  }
 },
 "nbformat": 4,
 "nbformat_minor": 5
}
