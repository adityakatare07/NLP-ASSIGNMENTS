{
 "cells": [
  {
   "cell_type": "code",
   "execution_count": 3,
   "metadata": {
    "execution": {
     "iopub.execute_input": "2024-04-16T19:18:29.928575Z",
     "iopub.status.busy": "2024-04-16T19:18:29.928179Z",
     "iopub.status.idle": "2024-04-16T19:18:29.935615Z",
     "shell.execute_reply": "2024-04-16T19:18:29.934487Z",
     "shell.execute_reply.started": "2024-04-16T19:18:29.928544Z"
    }
   },
   "outputs": [
    {
     "name": "stdout",
     "output_type": "stream",
     "text": [
      "/kaggle/working\n"
     ]
    }
   ],
   "source": [
    "%cd /kaggle/working/"
   ]
  },
  {
   "cell_type": "code",
   "execution_count": 4,
   "metadata": {
    "execution": {
     "iopub.execute_input": "2024-04-16T19:18:29.938218Z",
     "iopub.status.busy": "2024-04-16T19:18:29.937779Z",
     "iopub.status.idle": "2024-04-16T19:18:32.170058Z",
     "shell.execute_reply": "2024-04-16T19:18:32.168975Z",
     "shell.execute_reply.started": "2024-04-16T19:18:29.938182Z"
    }
   },
   "outputs": [
    {
     "name": "stdout",
     "output_type": "stream",
     "text": [
      "Cloning into 'IndicTransTokenizer'...\n",
      "remote: Enumerating objects: 123, done.\u001b[K\n",
      "remote: Counting objects: 100% (123/123), done.\u001b[K\n",
      "remote: Compressing objects: 100% (80/80), done.\u001b[K\n",
      "remote: Total 123 (delta 52), reused 94 (delta 31), pack-reused 0\u001b[K\n",
      "Receiving objects: 100% (123/123), 3.85 MiB | 13.56 MiB/s, done.\n",
      "Resolving deltas: 100% (52/52), done.\n"
     ]
    }
   ],
   "source": [
    "!git clone https://github.com/VarunGumma/IndicTransTokenizer"
   ]
  },
  {
   "cell_type": "code",
   "execution_count": 5,
   "metadata": {
    "execution": {
     "iopub.execute_input": "2024-04-16T19:18:32.172370Z",
     "iopub.status.busy": "2024-04-16T19:18:32.172024Z",
     "iopub.status.idle": "2024-04-16T19:18:32.179201Z",
     "shell.execute_reply": "2024-04-16T19:18:32.178192Z",
     "shell.execute_reply.started": "2024-04-16T19:18:32.172335Z"
    }
   },
   "outputs": [
    {
     "name": "stdout",
     "output_type": "stream",
     "text": [
      "/kaggle/working/IndicTransTokenizer\n"
     ]
    }
   ],
   "source": [
    "%cd IndicTransTokenizer"
   ]
  },
  {
   "cell_type": "code",
   "execution_count": 6,
   "metadata": {
    "execution": {
     "iopub.execute_input": "2024-04-16T19:18:32.181060Z",
     "iopub.status.busy": "2024-04-16T19:18:32.180695Z",
     "iopub.status.idle": "2024-04-16T19:19:11.107047Z",
     "shell.execute_reply": "2024-04-16T19:19:11.105864Z",
     "shell.execute_reply.started": "2024-04-16T19:18:32.181019Z"
    }
   },
   "outputs": [
    {
     "name": "stdout",
     "output_type": "stream",
     "text": [
      "Obtaining file:///kaggle/working/IndicTransTokenizer\n",
      "  Preparing metadata (setup.py) ... \u001b[?25ldone\n",
      "\u001b[?25hCollecting indic-nlp-library-IT2@ git+https://github.com/VarunGumma/indic_nlp_library (from IndicTransTokenizer==0.1.3)\n",
      "  Cloning https://github.com/VarunGumma/indic_nlp_library to /tmp/pip-install-212qjmqf/indic-nlp-library-it2_41d523a7a8594908bbf64d317262efb1\n",
      "  Running command git clone --filter=blob:none --quiet https://github.com/VarunGumma/indic_nlp_library /tmp/pip-install-212qjmqf/indic-nlp-library-it2_41d523a7a8594908bbf64d317262efb1\n",
      "  Resolved https://github.com/VarunGumma/indic_nlp_library to commit 09d30a15286cc252a12682e5450c807379717eaf\n",
      "  Preparing metadata (setup.py) ... \u001b[?25ldone\n",
      "\u001b[?25hCollecting setuptools==68.2.2 (from IndicTransTokenizer==0.1.3)\n",
      "  Downloading setuptools-68.2.2-py3-none-any.whl.metadata (6.3 kB)\n",
      "Requirement already satisfied: torch in /opt/conda/lib/python3.10/site-packages (from IndicTransTokenizer==0.1.3) (2.1.2)\n",
      "Collecting sacremoses (from IndicTransTokenizer==0.1.3)\n",
      "  Downloading sacremoses-0.1.1-py3-none-any.whl.metadata (8.3 kB)\n",
      "Requirement already satisfied: sentencepiece in /opt/conda/lib/python3.10/site-packages (from IndicTransTokenizer==0.1.3) (0.2.0)\n",
      "Requirement already satisfied: transformers in /opt/conda/lib/python3.10/site-packages (from IndicTransTokenizer==0.1.3) (4.39.3)\n",
      "Collecting sacrebleu==2.3.1 (from IndicTransTokenizer==0.1.3)\n",
      "  Downloading sacrebleu-2.3.1-py3-none-any.whl.metadata (57 kB)\n",
      "\u001b[2K     \u001b[90m━━━━━━━━━━━━━━━━━━━━━━━━━━━━━━━━━━━━━━━\u001b[0m \u001b[32m57.0/57.0 kB\u001b[0m \u001b[31m894.3 kB/s\u001b[0m eta \u001b[36m0:00:00\u001b[0ma \u001b[36m0:00:01\u001b[0m\n",
      "\u001b[?25hCollecting portalocker (from sacrebleu==2.3.1->IndicTransTokenizer==0.1.3)\n",
      "  Downloading portalocker-2.8.2-py3-none-any.whl.metadata (8.5 kB)\n",
      "Requirement already satisfied: regex in /opt/conda/lib/python3.10/site-packages (from sacrebleu==2.3.1->IndicTransTokenizer==0.1.3) (2023.12.25)\n",
      "Requirement already satisfied: tabulate>=0.8.9 in /opt/conda/lib/python3.10/site-packages (from sacrebleu==2.3.1->IndicTransTokenizer==0.1.3) (0.9.0)\n",
      "Requirement already satisfied: numpy>=1.17 in /opt/conda/lib/python3.10/site-packages (from sacrebleu==2.3.1->IndicTransTokenizer==0.1.3) (1.26.4)\n",
      "Requirement already satisfied: colorama in /opt/conda/lib/python3.10/site-packages (from sacrebleu==2.3.1->IndicTransTokenizer==0.1.3) (0.4.6)\n",
      "Requirement already satisfied: lxml in /opt/conda/lib/python3.10/site-packages (from sacrebleu==2.3.1->IndicTransTokenizer==0.1.3) (5.2.1)\n",
      "Collecting sphinx-argparse (from indic-nlp-library-IT2@ git+https://github.com/VarunGumma/indic_nlp_library->IndicTransTokenizer==0.1.3)\n",
      "  Downloading sphinx_argparse-0.4.0-py3-none-any.whl.metadata (1.9 kB)\n",
      "Requirement already satisfied: sphinx_rtd_theme in /opt/conda/lib/python3.10/site-packages (from indic-nlp-library-IT2@ git+https://github.com/VarunGumma/indic_nlp_library->IndicTransTokenizer==0.1.3) (0.2.4)\n",
      "Collecting morfessor (from indic-nlp-library-IT2@ git+https://github.com/VarunGumma/indic_nlp_library->IndicTransTokenizer==0.1.3)\n",
      "  Downloading Morfessor-2.0.6-py3-none-any.whl.metadata (628 bytes)\n",
      "Requirement already satisfied: pandas in /opt/conda/lib/python3.10/site-packages (from indic-nlp-library-IT2@ git+https://github.com/VarunGumma/indic_nlp_library->IndicTransTokenizer==0.1.3) (2.1.4)\n",
      "Requirement already satisfied: click in /opt/conda/lib/python3.10/site-packages (from sacremoses->IndicTransTokenizer==0.1.3) (8.1.7)\n",
      "Requirement already satisfied: joblib in /opt/conda/lib/python3.10/site-packages (from sacremoses->IndicTransTokenizer==0.1.3) (1.3.2)\n",
      "Requirement already satisfied: tqdm in /opt/conda/lib/python3.10/site-packages (from sacremoses->IndicTransTokenizer==0.1.3) (4.66.1)\n",
      "Requirement already satisfied: filelock in /opt/conda/lib/python3.10/site-packages (from torch->IndicTransTokenizer==0.1.3) (3.13.1)\n",
      "Requirement already satisfied: typing-extensions in /opt/conda/lib/python3.10/site-packages (from torch->IndicTransTokenizer==0.1.3) (4.9.0)\n",
      "Requirement already satisfied: sympy in /opt/conda/lib/python3.10/site-packages (from torch->IndicTransTokenizer==0.1.3) (1.12)\n",
      "Requirement already satisfied: networkx in /opt/conda/lib/python3.10/site-packages (from torch->IndicTransTokenizer==0.1.3) (3.2.1)\n",
      "Requirement already satisfied: jinja2 in /opt/conda/lib/python3.10/site-packages (from torch->IndicTransTokenizer==0.1.3) (3.1.2)\n",
      "Requirement already satisfied: fsspec in /opt/conda/lib/python3.10/site-packages (from torch->IndicTransTokenizer==0.1.3) (2024.2.0)\n",
      "Requirement already satisfied: huggingface-hub<1.0,>=0.19.3 in /opt/conda/lib/python3.10/site-packages (from transformers->IndicTransTokenizer==0.1.3) (0.22.2)\n",
      "Requirement already satisfied: packaging>=20.0 in /opt/conda/lib/python3.10/site-packages (from transformers->IndicTransTokenizer==0.1.3) (21.3)\n",
      "Requirement already satisfied: pyyaml>=5.1 in /opt/conda/lib/python3.10/site-packages (from transformers->IndicTransTokenizer==0.1.3) (6.0.1)\n",
      "Requirement already satisfied: requests in /opt/conda/lib/python3.10/site-packages (from transformers->IndicTransTokenizer==0.1.3) (2.31.0)\n",
      "Requirement already satisfied: tokenizers<0.19,>=0.14 in /opt/conda/lib/python3.10/site-packages (from transformers->IndicTransTokenizer==0.1.3) (0.15.2)\n",
      "Requirement already satisfied: safetensors>=0.4.1 in /opt/conda/lib/python3.10/site-packages (from transformers->IndicTransTokenizer==0.1.3) (0.4.2)\n",
      "Requirement already satisfied: pyparsing!=3.0.5,>=2.0.2 in /opt/conda/lib/python3.10/site-packages (from packaging>=20.0->transformers->IndicTransTokenizer==0.1.3) (3.1.1)\n",
      "Requirement already satisfied: MarkupSafe>=2.0 in /opt/conda/lib/python3.10/site-packages (from jinja2->torch->IndicTransTokenizer==0.1.3) (2.1.3)\n",
      "Requirement already satisfied: python-dateutil>=2.8.2 in /opt/conda/lib/python3.10/site-packages (from pandas->indic-nlp-library-IT2@ git+https://github.com/VarunGumma/indic_nlp_library->IndicTransTokenizer==0.1.3) (2.9.0.post0)\n",
      "Requirement already satisfied: pytz>=2020.1 in /opt/conda/lib/python3.10/site-packages (from pandas->indic-nlp-library-IT2@ git+https://github.com/VarunGumma/indic_nlp_library->IndicTransTokenizer==0.1.3) (2023.3.post1)\n",
      "Requirement already satisfied: tzdata>=2022.1 in /opt/conda/lib/python3.10/site-packages (from pandas->indic-nlp-library-IT2@ git+https://github.com/VarunGumma/indic_nlp_library->IndicTransTokenizer==0.1.3) (2023.4)\n",
      "Requirement already satisfied: charset-normalizer<4,>=2 in /opt/conda/lib/python3.10/site-packages (from requests->transformers->IndicTransTokenizer==0.1.3) (3.3.2)\n",
      "Requirement already satisfied: idna<4,>=2.5 in /opt/conda/lib/python3.10/site-packages (from requests->transformers->IndicTransTokenizer==0.1.3) (3.6)\n",
      "Requirement already satisfied: urllib3<3,>=1.21.1 in /opt/conda/lib/python3.10/site-packages (from requests->transformers->IndicTransTokenizer==0.1.3) (1.26.18)\n",
      "Requirement already satisfied: certifi>=2017.4.17 in /opt/conda/lib/python3.10/site-packages (from requests->transformers->IndicTransTokenizer==0.1.3) (2024.2.2)\n",
      "Collecting sphinx>=1.2.0 (from sphinx-argparse->indic-nlp-library-IT2@ git+https://github.com/VarunGumma/indic_nlp_library->IndicTransTokenizer==0.1.3)\n",
      "  Downloading sphinx-7.2.6-py3-none-any.whl.metadata (5.9 kB)\n",
      "Requirement already satisfied: mpmath>=0.19 in /opt/conda/lib/python3.10/site-packages (from sympy->torch->IndicTransTokenizer==0.1.3) (1.3.0)\n",
      "Requirement already satisfied: six>=1.5 in /opt/conda/lib/python3.10/site-packages (from python-dateutil>=2.8.2->pandas->indic-nlp-library-IT2@ git+https://github.com/VarunGumma/indic_nlp_library->IndicTransTokenizer==0.1.3) (1.16.0)\n",
      "Collecting sphinxcontrib-applehelp (from sphinx>=1.2.0->sphinx-argparse->indic-nlp-library-IT2@ git+https://github.com/VarunGumma/indic_nlp_library->IndicTransTokenizer==0.1.3)\n",
      "  Downloading sphinxcontrib_applehelp-1.0.8-py3-none-any.whl.metadata (2.3 kB)\n",
      "Collecting sphinxcontrib-devhelp (from sphinx>=1.2.0->sphinx-argparse->indic-nlp-library-IT2@ git+https://github.com/VarunGumma/indic_nlp_library->IndicTransTokenizer==0.1.3)\n",
      "  Downloading sphinxcontrib_devhelp-1.0.6-py3-none-any.whl.metadata (2.3 kB)\n",
      "Collecting sphinxcontrib-jsmath (from sphinx>=1.2.0->sphinx-argparse->indic-nlp-library-IT2@ git+https://github.com/VarunGumma/indic_nlp_library->IndicTransTokenizer==0.1.3)\n",
      "  Downloading sphinxcontrib_jsmath-1.0.1-py2.py3-none-any.whl.metadata (1.4 kB)\n",
      "Collecting sphinxcontrib-htmlhelp>=2.0.0 (from sphinx>=1.2.0->sphinx-argparse->indic-nlp-library-IT2@ git+https://github.com/VarunGumma/indic_nlp_library->IndicTransTokenizer==0.1.3)\n",
      "  Downloading sphinxcontrib_htmlhelp-2.0.5-py3-none-any.whl.metadata (2.3 kB)\n",
      "Collecting sphinxcontrib-serializinghtml>=1.1.9 (from sphinx>=1.2.0->sphinx-argparse->indic-nlp-library-IT2@ git+https://github.com/VarunGumma/indic_nlp_library->IndicTransTokenizer==0.1.3)\n",
      "  Downloading sphinxcontrib_serializinghtml-1.1.10-py3-none-any.whl.metadata (2.4 kB)\n",
      "Collecting sphinxcontrib-qthelp (from sphinx>=1.2.0->sphinx-argparse->indic-nlp-library-IT2@ git+https://github.com/VarunGumma/indic_nlp_library->IndicTransTokenizer==0.1.3)\n",
      "  Downloading sphinxcontrib_qthelp-1.0.7-py3-none-any.whl.metadata (2.2 kB)\n",
      "Requirement already satisfied: Pygments>=2.14 in /opt/conda/lib/python3.10/site-packages (from sphinx>=1.2.0->sphinx-argparse->indic-nlp-library-IT2@ git+https://github.com/VarunGumma/indic_nlp_library->IndicTransTokenizer==0.1.3) (2.17.2)\n",
      "Requirement already satisfied: docutils<0.21,>=0.18.1 in /opt/conda/lib/python3.10/site-packages (from sphinx>=1.2.0->sphinx-argparse->indic-nlp-library-IT2@ git+https://github.com/VarunGumma/indic_nlp_library->IndicTransTokenizer==0.1.3) (0.20.1)\n",
      "Requirement already satisfied: snowballstemmer>=2.0 in /opt/conda/lib/python3.10/site-packages (from sphinx>=1.2.0->sphinx-argparse->indic-nlp-library-IT2@ git+https://github.com/VarunGumma/indic_nlp_library->IndicTransTokenizer==0.1.3) (2.2.0)\n",
      "Requirement already satisfied: babel>=2.9 in /opt/conda/lib/python3.10/site-packages (from sphinx>=1.2.0->sphinx-argparse->indic-nlp-library-IT2@ git+https://github.com/VarunGumma/indic_nlp_library->IndicTransTokenizer==0.1.3) (2.14.0)\n",
      "Collecting alabaster<0.8,>=0.7 (from sphinx>=1.2.0->sphinx-argparse->indic-nlp-library-IT2@ git+https://github.com/VarunGumma/indic_nlp_library->IndicTransTokenizer==0.1.3)\n",
      "  Downloading alabaster-0.7.16-py3-none-any.whl.metadata (2.9 kB)\n",
      "Collecting imagesize>=1.3 (from sphinx>=1.2.0->sphinx-argparse->indic-nlp-library-IT2@ git+https://github.com/VarunGumma/indic_nlp_library->IndicTransTokenizer==0.1.3)\n",
      "  Downloading imagesize-1.4.1-py2.py3-none-any.whl.metadata (1.5 kB)\n",
      "Downloading sacrebleu-2.3.1-py3-none-any.whl (118 kB)\n",
      "\u001b[2K   \u001b[90m━━━━━━━━━━━━━━━━━━━━━━━━━━━━━━━━━━━━━━━━\u001b[0m \u001b[32m118.9/118.9 kB\u001b[0m \u001b[31m1.6 MB/s\u001b[0m eta \u001b[36m0:00:00\u001b[0m \u001b[36m0:00:01\u001b[0m\n",
      "\u001b[?25hDownloading setuptools-68.2.2-py3-none-any.whl (807 kB)\n",
      "\u001b[2K   \u001b[90m━━━━━━━━━━━━━━━━━━━━━━━━━━━━━━━━━━━━━━━━\u001b[0m \u001b[32m807.9/807.9 kB\u001b[0m \u001b[31m2.5 MB/s\u001b[0m eta \u001b[36m0:00:00\u001b[0m00:01\u001b[0m00:01\u001b[0m\n",
      "\u001b[?25hDownloading sacremoses-0.1.1-py3-none-any.whl (897 kB)\n",
      "\u001b[2K   \u001b[90m━━━━━━━━━━━━━━━━━━━━━━━━━━━━━━━━━━━━━━━━\u001b[0m \u001b[32m897.5/897.5 kB\u001b[0m \u001b[31m2.7 MB/s\u001b[0m eta \u001b[36m0:00:00\u001b[0m00:01\u001b[0m00:01\u001b[0m\n",
      "\u001b[?25hDownloading Morfessor-2.0.6-py3-none-any.whl (35 kB)\n",
      "Downloading portalocker-2.8.2-py3-none-any.whl (17 kB)\n",
      "Downloading sphinx_argparse-0.4.0-py3-none-any.whl (12 kB)\n",
      "Downloading sphinx-7.2.6-py3-none-any.whl (3.2 MB)\n",
      "\u001b[2K   \u001b[90m━━━━━━━━━━━━━━━━━━━━━━━━━━━━━━━━━━━━━━━━\u001b[0m \u001b[32m3.2/3.2 MB\u001b[0m \u001b[31m3.1 MB/s\u001b[0m eta \u001b[36m0:00:00\u001b[0m00:01\u001b[0m00:01\u001b[0m\n",
      "\u001b[?25hDownloading alabaster-0.7.16-py3-none-any.whl (13 kB)\n",
      "Downloading imagesize-1.4.1-py2.py3-none-any.whl (8.8 kB)\n",
      "Downloading sphinxcontrib_htmlhelp-2.0.5-py3-none-any.whl (99 kB)\n",
      "\u001b[2K   \u001b[90m━━━━━━━━━━━━━━━━━━━━━━━━━━━━━━━━━━━━━━━━\u001b[0m \u001b[32m99.2/99.2 kB\u001b[0m \u001b[31m2.8 MB/s\u001b[0m eta \u001b[36m0:00:00\u001b[0m\n",
      "\u001b[?25hDownloading sphinxcontrib_serializinghtml-1.1.10-py3-none-any.whl (92 kB)\n",
      "\u001b[2K   \u001b[90m━━━━━━━━━━━━━━━━━━━━━━━━━━━━━━━━━━━━━━━━\u001b[0m \u001b[32m92.7/92.7 kB\u001b[0m \u001b[31m2.7 MB/s\u001b[0m eta \u001b[36m0:00:00\u001b[0m\n",
      "\u001b[?25hDownloading sphinxcontrib_applehelp-1.0.8-py3-none-any.whl (120 kB)\n",
      "\u001b[2K   \u001b[90m━━━━━━━━━━━━━━━━━━━━━━━━━━━━━━━━━━━━━━━━\u001b[0m \u001b[32m120.0/120.0 kB\u001b[0m \u001b[31m2.7 MB/s\u001b[0m eta \u001b[36m0:00:00\u001b[0ma \u001b[36m0:00:01\u001b[0m\n",
      "\u001b[?25hDownloading sphinxcontrib_devhelp-1.0.6-py3-none-any.whl (83 kB)\n",
      "\u001b[2K   \u001b[90m━━━━━━━━━━━━━━━━━━━━━━━━━━━━━━━━━━━━━━━━\u001b[0m \u001b[32m83.5/83.5 kB\u001b[0m \u001b[31m2.4 MB/s\u001b[0m eta \u001b[36m0:00:00\u001b[0m\n",
      "\u001b[?25hDownloading sphinxcontrib_jsmath-1.0.1-py2.py3-none-any.whl (5.1 kB)\n",
      "Downloading sphinxcontrib_qthelp-1.0.7-py3-none-any.whl (89 kB)\n",
      "\u001b[2K   \u001b[90m━━━━━━━━━━━━━━━━━━━━━━━━━━━━━━━━━━━━━━━━\u001b[0m \u001b[32m89.4/89.4 kB\u001b[0m \u001b[31m2.8 MB/s\u001b[0m eta \u001b[36m0:00:00\u001b[0m\n",
      "\u001b[?25hBuilding wheels for collected packages: indic-nlp-library-IT2\n",
      "  Building wheel for indic-nlp-library-IT2 (setup.py) ... \u001b[?25ldone\n",
      "\u001b[?25h  Created wheel for indic-nlp-library-IT2: filename=indic_nlp_library_IT2-0.0.2-py3-none-any.whl size=49537 sha256=82ebf0de44c54e616b1c07ff93887ebe9976012a5c825d7e06f75ac48a429d3d\n",
      "  Stored in directory: /tmp/pip-ephem-wheel-cache-aebxchui/wheels/e9/72/fa/bd9f19a3f2bacb50efcaf28b7ab89fe7ca539e35b75334befc\n",
      "Successfully built indic-nlp-library-IT2\n",
      "Installing collected packages: morfessor, sphinxcontrib-serializinghtml, sphinxcontrib-qthelp, sphinxcontrib-jsmath, sphinxcontrib-htmlhelp, sphinxcontrib-devhelp, sphinxcontrib-applehelp, setuptools, sacremoses, portalocker, imagesize, alabaster, sphinx, sacrebleu, sphinx-argparse, indic-nlp-library-IT2, IndicTransTokenizer\n",
      "  Attempting uninstall: setuptools\n",
      "    Found existing installation: setuptools 69.0.3\n",
      "    Uninstalling setuptools-69.0.3:\n",
      "      Successfully uninstalled setuptools-69.0.3\n",
      "  Running setup.py develop for IndicTransTokenizer\n",
      "\u001b[31mERROR: pip's dependency resolver does not currently take into account all the packages that are installed. This behaviour is the source of the following dependency conflicts.\n",
      "tensorflow-decision-forests 1.8.1 requires wurlitzer, which is not installed.\n",
      "tensorflow 2.15.0 requires keras<2.16,>=2.15.0, but you have keras 3.1.1 which is incompatible.\u001b[0m\u001b[31m\n",
      "\u001b[0mSuccessfully installed IndicTransTokenizer-0.1.3 alabaster-0.7.16 imagesize-1.4.1 indic-nlp-library-IT2-0.0.2 morfessor-2.0.6 portalocker-2.8.2 sacrebleu-2.3.1 sacremoses-0.1.1 setuptools-68.2.2 sphinx-7.2.6 sphinx-argparse-0.4.0 sphinxcontrib-applehelp-1.0.8 sphinxcontrib-devhelp-1.0.6 sphinxcontrib-htmlhelp-2.0.5 sphinxcontrib-jsmath-1.0.1 sphinxcontrib-qthelp-1.0.7 sphinxcontrib-serializinghtml-1.1.10\n",
      "Note: you may need to restart the kernel to use updated packages.\n"
     ]
    }
   ],
   "source": [
    "pip install --editable ./"
   ]
  },
  {
   "cell_type": "code",
   "execution_count": 7,
   "metadata": {
    "execution": {
     "iopub.execute_input": "2024-04-16T19:19:11.110099Z",
     "iopub.status.busy": "2024-04-16T19:19:11.109764Z",
     "iopub.status.idle": "2024-04-16T19:19:24.970193Z",
     "shell.execute_reply": "2024-04-16T19:19:24.968899Z",
     "shell.execute_reply.started": "2024-04-16T19:19:11.110068Z"
    }
   },
   "outputs": [
    {
     "name": "stdout",
     "output_type": "stream",
     "text": [
      "Requirement already satisfied: transformers in /opt/conda/lib/python3.10/site-packages (4.39.3)\n",
      "Requirement already satisfied: filelock in /opt/conda/lib/python3.10/site-packages (from transformers) (3.13.1)\n",
      "Requirement already satisfied: huggingface-hub<1.0,>=0.19.3 in /opt/conda/lib/python3.10/site-packages (from transformers) (0.22.2)\n",
      "Requirement already satisfied: numpy>=1.17 in /opt/conda/lib/python3.10/site-packages (from transformers) (1.26.4)\n",
      "Requirement already satisfied: packaging>=20.0 in /opt/conda/lib/python3.10/site-packages (from transformers) (21.3)\n",
      "Requirement already satisfied: pyyaml>=5.1 in /opt/conda/lib/python3.10/site-packages (from transformers) (6.0.1)\n",
      "Requirement already satisfied: regex!=2019.12.17 in /opt/conda/lib/python3.10/site-packages (from transformers) (2023.12.25)\n",
      "Requirement already satisfied: requests in /opt/conda/lib/python3.10/site-packages (from transformers) (2.31.0)\n",
      "Requirement already satisfied: tokenizers<0.19,>=0.14 in /opt/conda/lib/python3.10/site-packages (from transformers) (0.15.2)\n",
      "Requirement already satisfied: safetensors>=0.4.1 in /opt/conda/lib/python3.10/site-packages (from transformers) (0.4.2)\n",
      "Requirement already satisfied: tqdm>=4.27 in /opt/conda/lib/python3.10/site-packages (from transformers) (4.66.1)\n",
      "Requirement already satisfied: fsspec>=2023.5.0 in /opt/conda/lib/python3.10/site-packages (from huggingface-hub<1.0,>=0.19.3->transformers) (2024.2.0)\n",
      "Requirement already satisfied: typing-extensions>=3.7.4.3 in /opt/conda/lib/python3.10/site-packages (from huggingface-hub<1.0,>=0.19.3->transformers) (4.9.0)\n",
      "Requirement already satisfied: pyparsing!=3.0.5,>=2.0.2 in /opt/conda/lib/python3.10/site-packages (from packaging>=20.0->transformers) (3.1.1)\n",
      "Requirement already satisfied: charset-normalizer<4,>=2 in /opt/conda/lib/python3.10/site-packages (from requests->transformers) (3.3.2)\n",
      "Requirement already satisfied: idna<4,>=2.5 in /opt/conda/lib/python3.10/site-packages (from requests->transformers) (3.6)\n",
      "Requirement already satisfied: urllib3<3,>=1.21.1 in /opt/conda/lib/python3.10/site-packages (from requests->transformers) (1.26.18)\n",
      "Requirement already satisfied: certifi>=2017.4.17 in /opt/conda/lib/python3.10/site-packages (from requests->transformers) (2024.2.2)\n",
      "Note: you may need to restart the kernel to use updated packages.\n"
     ]
    }
   ],
   "source": [
    "pip install transformers"
   ]
  },
  {
   "cell_type": "code",
   "execution_count": 8,
   "metadata": {
    "execution": {
     "iopub.execute_input": "2024-04-16T19:19:24.972604Z",
     "iopub.status.busy": "2024-04-16T19:19:24.972150Z",
     "iopub.status.idle": "2024-04-16T19:19:40.373662Z",
     "shell.execute_reply": "2024-04-16T19:19:40.372523Z",
     "shell.execute_reply.started": "2024-04-16T19:19:24.972546Z"
    }
   },
   "outputs": [
    {
     "data": {
      "application/vnd.jupyter.widget-view+json": {
       "model_id": "fad2ea631c6e46389a0a8f42d1b10d62",
       "version_major": 2,
       "version_minor": 0
      },
      "text/plain": [
       "config.json:   0%|          | 0.00/1.27k [00:00<?, ?B/s]"
      ]
     },
     "metadata": {},
     "output_type": "display_data"
    },
    {
     "data": {
      "application/vnd.jupyter.widget-view+json": {
       "model_id": "13e43286a26f48e6910fa99f08324193",
       "version_major": 2,
       "version_minor": 0
      },
      "text/plain": [
       "configuration_indictrans.py:   0%|          | 0.00/14.1k [00:00<?, ?B/s]"
      ]
     },
     "metadata": {},
     "output_type": "display_data"
    },
    {
     "name": "stderr",
     "output_type": "stream",
     "text": [
      "A new version of the following files was downloaded from https://huggingface.co/ai4bharat/indictrans2-en-indic-dist-200M:\n",
      "- configuration_indictrans.py\n",
      ". Make sure to double-check they do not contain any added malicious code. To avoid downloading new versions of the code file, you can pin a revision.\n"
     ]
    },
    {
     "data": {
      "application/vnd.jupyter.widget-view+json": {
       "model_id": "f502b293b438439188985787d9118fde",
       "version_major": 2,
       "version_minor": 0
      },
      "text/plain": [
       "modeling_indictrans.py:   0%|          | 0.00/61.3k [00:00<?, ?B/s]"
      ]
     },
     "metadata": {},
     "output_type": "display_data"
    },
    {
     "name": "stderr",
     "output_type": "stream",
     "text": [
      "A new version of the following files was downloaded from https://huggingface.co/ai4bharat/indictrans2-en-indic-dist-200M:\n",
      "- modeling_indictrans.py\n",
      ". Make sure to double-check they do not contain any added malicious code. To avoid downloading new versions of the code file, you can pin a revision.\n"
     ]
    },
    {
     "data": {
      "application/vnd.jupyter.widget-view+json": {
       "model_id": "ad06ac038d3647cc8974eacb2b076d98",
       "version_major": 2,
       "version_minor": 0
      },
      "text/plain": [
       "model.safetensors:   0%|          | 0.00/1.10G [00:00<?, ?B/s]"
      ]
     },
     "metadata": {},
     "output_type": "display_data"
    },
    {
     "data": {
      "application/vnd.jupyter.widget-view+json": {
       "model_id": "29a6bc37ebf34eb8bcc223cff78c3a28",
       "version_major": 2,
       "version_minor": 0
      },
      "text/plain": [
       "generation_config.json:   0%|          | 0.00/163 [00:00<?, ?B/s]"
      ]
     },
     "metadata": {},
     "output_type": "display_data"
    }
   ],
   "source": [
    "import torch\n",
    "from transformers import AutoModelForSeq2SeqLM\n",
    "from IndicTransTokenizer import IndicProcessor, IndicTransTokenizer\n",
    "\n",
    "tokenizer = IndicTransTokenizer(direction=\"en-indic\")\n",
    "ip = IndicProcessor(inference=True)\n",
    "model = AutoModelForSeq2SeqLM.from_pretrained(\"ai4bharat/indictrans2-en-indic-dist-200M\", trust_remote_code=True, low_cpu_mem_usage=True)\n",
    "model=model.to(\"cuda\")\n",
    "# def translate_from_file(input_file, hindi_to_english):\n",
    "\n",
    "#   with open(input_file, 'r') as f:\n",
    "#     sentences = f.readlines()\n",
    "\n",
    "#   batch = ip.preprocess_batch(sentences, src_lang=\"eng_Latn\", tgt_lang=\"hin_Deva\")\n",
    "#   batch = tokenizer(batch, src=True, return_tensors=\"pt\").to(\"cuda\")\n",
    "\n",
    "#   with torch.inference_mode():\n",
    "#     outputs = model.generate(**batch, num_beams=5, num_return_sequences=1, max_length=256)\n",
    "\n",
    "#   outputs = tokenizer.batch_decode(outputs, src=False)\n",
    "#   outputs = ip.postprocess_batch(outputs, lang=\"hin_Deva\")\n",
    "\n",
    "#   hindi_to_english.extend(outputs)  # Append translated sentences to the output list\n",
    "\n",
    "# # Example usage:\n",
    "# input_file = \"/kaggle/input/extracted-22/extracted_eng.txt\"  # Replace with your actual file path\n",
    "# hindi_to_english = []\n",
    "\n",
    "# translate_from_file(input_file, hindi_to_english)\n",
    "\n",
    "# print(output_list)  # List containing the translated sentences from the file\n"
   ]
  },
  {
   "cell_type": "code",
   "execution_count": 9,
   "metadata": {
    "execution": {
     "iopub.execute_input": "2024-04-16T19:19:40.375558Z",
     "iopub.status.busy": "2024-04-16T19:19:40.375063Z",
     "iopub.status.idle": "2024-04-16T19:22:47.615342Z",
     "shell.execute_reply": "2024-04-16T19:22:47.614349Z",
     "shell.execute_reply.started": "2024-04-16T19:19:40.375530Z"
    }
   },
   "outputs": [],
   "source": [
    "translation = []\n",
    "file_path = \"/kaggle/input/extracted-22/extracted_eng.txt\"  \n",
    "with open(file_path, \"r\", encoding=\"utf-8\") as file:\n",
    "    input_sentences = [line.strip() for line in file]\n",
    "BATCH_SIZE=4\n",
    "for i in range(0,len(input_sentences),BATCH_SIZE):\n",
    "    batch = input_sentences[i : i + BATCH_SIZE]\n",
    "\n",
    "    # Preprocess the batch and extract entity mappings\n",
    "    batch = ip.preprocess_batch(batch, src_lang=\"eng_Latn\", tgt_lang=\"hin_Deva\")\n",
    "\n",
    "    # Tokenize the batch and generate input encodings\n",
    "    batch = tokenizer(batch, src=True, return_tensors=\"pt\").to(\"cuda\")\n",
    "\n",
    "    with torch.inference_mode():\n",
    "        outputs = model.generate(**batch,use_cache=True, num_beams=5, num_return_sequences=1, max_length=256)\n",
    "\n",
    "    # Decode the generated tokens into text\n",
    "    outputs = tokenizer.batch_decode(outputs, src=False)\n",
    "    # Postprocess the translations, including entity replacement\n",
    "    outputs = ip.postprocess_batch(outputs, lang=\"hin_Deva\")\n",
    "    translation.append(outputs)\n",
    "    del batch\n",
    "    torch.cuda.empty_cache()"
   ]
  },
  {
   "cell_type": "code",
   "execution_count": 10,
   "metadata": {
    "execution": {
     "iopub.execute_input": "2024-04-16T19:22:47.617497Z",
     "iopub.status.busy": "2024-04-16T19:22:47.617009Z",
     "iopub.status.idle": "2024-04-16T19:22:54.172016Z",
     "shell.execute_reply": "2024-04-16T19:22:54.170990Z",
     "shell.execute_reply.started": "2024-04-16T19:22:47.617455Z"
    }
   },
   "outputs": [
    {
     "data": {
      "application/vnd.jupyter.widget-view+json": {
       "model_id": "a616bb0ab4244a1491c2d11eab9b38af",
       "version_major": 2,
       "version_minor": 0
      },
      "text/plain": [
       "config.json:   0%|          | 0.00/1.27k [00:00<?, ?B/s]"
      ]
     },
     "metadata": {},
     "output_type": "display_data"
    },
    {
     "data": {
      "application/vnd.jupyter.widget-view+json": {
       "model_id": "36279ff9c24c48fbb68c2c5acbe6488f",
       "version_major": 2,
       "version_minor": 0
      },
      "text/plain": [
       "configuration_indictrans.py:   0%|          | 0.00/14.1k [00:00<?, ?B/s]"
      ]
     },
     "metadata": {},
     "output_type": "display_data"
    },
    {
     "name": "stderr",
     "output_type": "stream",
     "text": [
      "A new version of the following files was downloaded from https://huggingface.co/ai4bharat/indictrans2-indic-en-dist-200M:\n",
      "- configuration_indictrans.py\n",
      ". Make sure to double-check they do not contain any added malicious code. To avoid downloading new versions of the code file, you can pin a revision.\n"
     ]
    },
    {
     "data": {
      "application/vnd.jupyter.widget-view+json": {
       "model_id": "dc9a2a3aeda14082ad12e766347f1eba",
       "version_major": 2,
       "version_minor": 0
      },
      "text/plain": [
       "modeling_indictrans.py:   0%|          | 0.00/61.3k [00:00<?, ?B/s]"
      ]
     },
     "metadata": {},
     "output_type": "display_data"
    },
    {
     "name": "stderr",
     "output_type": "stream",
     "text": [
      "A new version of the following files was downloaded from https://huggingface.co/ai4bharat/indictrans2-indic-en-dist-200M:\n",
      "- modeling_indictrans.py\n",
      ". Make sure to double-check they do not contain any added malicious code. To avoid downloading new versions of the code file, you can pin a revision.\n"
     ]
    },
    {
     "data": {
      "application/vnd.jupyter.widget-view+json": {
       "model_id": "b30b6d74f825442ba276c53bd1d38368",
       "version_major": 2,
       "version_minor": 0
      },
      "text/plain": [
       "pytorch_model.bin:   0%|          | 0.00/914M [00:00<?, ?B/s]"
      ]
     },
     "metadata": {},
     "output_type": "display_data"
    },
    {
     "name": "stderr",
     "output_type": "stream",
     "text": [
      "/opt/conda/lib/python3.10/site-packages/torch/_utils.py:831: UserWarning: TypedStorage is deprecated. It will be removed in the future and UntypedStorage will be the only storage class. This should only matter to you if you are using storages directly.  To access UntypedStorage directly, use tensor.untyped_storage() instead of tensor.storage()\n",
      "  return self.fget.__get__(instance, owner)()\n"
     ]
    },
    {
     "data": {
      "application/vnd.jupyter.widget-view+json": {
       "model_id": "472b5918e8894fcda37a19551e399d19",
       "version_major": 2,
       "version_minor": 0
      },
      "text/plain": [
       "generation_config.json:   0%|          | 0.00/163 [00:00<?, ?B/s]"
      ]
     },
     "metadata": {},
     "output_type": "display_data"
    }
   ],
   "source": [
    "import torch\n",
    "from transformers import AutoModelForSeq2SeqLM\n",
    "from IndicTransTokenizer import IndicProcessor, IndicTransTokenizer\n",
    "\n",
    "tokenizer = IndicTransTokenizer(direction=\"indic-en\")\n",
    "ip = IndicProcessor(inference=True)\n",
    "model = AutoModelForSeq2SeqLM.from_pretrained(\"ai4bharat/indictrans2-indic-en-dist-200M\", trust_remote_code=True, low_cpu_mem_usage=True)\n",
    "model=model.to(\"cuda\")\n",
    "# def translate_from_file(input_file, hindi_to_english):\n",
    "\n",
    "#   with open(input_file, 'r') as f:\n",
    "#     sentences = f.readlines()\n",
    "\n",
    "#   batch = ip.preprocess_batch(sentences, src_lang=\"eng_Latn\", tgt_lang=\"hin_Deva\")\n",
    "#   batch = tokenizer(batch, src=True, return_tensors=\"pt\").to(\"cuda\")\n",
    "\n",
    "#   with torch.inference_mode():\n",
    "#     outputs = model.generate(**batch, num_beams=5, num_return_sequences=1, max_length=256)\n",
    "\n",
    "#   outputs = tokenizer.batch_decode(outputs, src=False)\n",
    "#   outputs = ip.postprocess_batch(outputs, lang=\"hin_Deva\")\n",
    "\n",
    "#   hindi_to_english.extend(outputs)  # Append translated sentences to the output list\n",
    "\n",
    "# # Example usage:\n",
    "# input_file = \"/kaggle/input/extracted-22/extracted_eng.txt\"  # Replace with your actual file path\n",
    "# hindi_to_english = []\n",
    "\n",
    "# translate_from_file(input_file, hindi_to_english)\n",
    "\n",
    "# print(output_list)  # List containing the translated sentences from the file\n"
   ]
  },
  {
   "cell_type": "code",
   "execution_count": 11,
   "metadata": {
    "execution": {
     "iopub.execute_input": "2024-04-16T19:22:54.173578Z",
     "iopub.status.busy": "2024-04-16T19:22:54.173260Z",
     "iopub.status.idle": "2024-04-16T19:25:39.576379Z",
     "shell.execute_reply": "2024-04-16T19:25:39.575461Z",
     "shell.execute_reply.started": "2024-04-16T19:22:54.173553Z"
    }
   },
   "outputs": [],
   "source": [
    "hindi_to_english = []\n",
    "file_path = \"/kaggle/input/extracted-22/extracted_hi.txt\"  \n",
    "with open(file_path, \"r\", encoding=\"utf-8\") as file:\n",
    "    input_sentences = [line.strip() for line in file]\n",
    "BATCH_SIZE=4\n",
    "for i in range(0,len(input_sentences),BATCH_SIZE):\n",
    "    batch = input_sentences[i : i + BATCH_SIZE]\n",
    "\n",
    "    # Preprocess the batch and extract entity mappings\n",
    "    batch = ip.preprocess_batch(batch, src_lang=\"hin_Deva\", tgt_lang=\"eng_Latn\")\n",
    "\n",
    "    # Tokenize the batch and generate input encodings\n",
    "    batch = tokenizer(batch, src=True, return_tensors=\"pt\").to(\"cuda\")\n",
    "\n",
    "    with torch.inference_mode():\n",
    "        outputs = model.generate(**batch,use_cache=True, num_beams=5, num_return_sequences=1, max_length=256)\n",
    "\n",
    "    # Decode the generated tokens into text\n",
    "    outputs = tokenizer.batch_decode(outputs, src=False)\n",
    "    # Postprocess the translations, including entity replacement\n",
    "    outputs = ip.postprocess_batch(outputs, lang=\"eng_Latn\")\n",
    "    hindi_to_english.append(outputs)\n",
    "    del batch\n",
    "    torch.cuda.empty_cache()"
   ]
  },
  {
   "cell_type": "code",
   "execution_count": 12,
   "metadata": {
    "execution": {
     "iopub.execute_input": "2024-04-16T19:25:39.578023Z",
     "iopub.status.busy": "2024-04-16T19:25:39.577707Z",
     "iopub.status.idle": "2024-04-16T19:25:48.845927Z",
     "shell.execute_reply": "2024-04-16T19:25:48.844786Z",
     "shell.execute_reply.started": "2024-04-16T19:25:39.577997Z"
    }
   },
   "outputs": [
    {
     "data": {
      "application/vnd.jupyter.widget-view+json": {
       "model_id": "cf82d7269433491f8dcf4c9e5d895f39",
       "version_major": 2,
       "version_minor": 0
      },
      "text/plain": [
       "config.json:   0%|          | 0.00/1.28k [00:00<?, ?B/s]"
      ]
     },
     "metadata": {},
     "output_type": "display_data"
    },
    {
     "data": {
      "application/vnd.jupyter.widget-view+json": {
       "model_id": "5a1401880d3e4c678b96b8bcaae5a7a5",
       "version_major": 2,
       "version_minor": 0
      },
      "text/plain": [
       "configuration_indictrans.py:   0%|          | 0.00/14.1k [00:00<?, ?B/s]"
      ]
     },
     "metadata": {},
     "output_type": "display_data"
    },
    {
     "name": "stderr",
     "output_type": "stream",
     "text": [
      "A new version of the following files was downloaded from https://huggingface.co/ai4bharat/indictrans2-indic-indic-dist-320M:\n",
      "- configuration_indictrans.py\n",
      ". Make sure to double-check they do not contain any added malicious code. To avoid downloading new versions of the code file, you can pin a revision.\n"
     ]
    },
    {
     "data": {
      "application/vnd.jupyter.widget-view+json": {
       "model_id": "b7bcc5c22e634fe299ab3a740225444e",
       "version_major": 2,
       "version_minor": 0
      },
      "text/plain": [
       "modeling_indictrans.py:   0%|          | 0.00/61.3k [00:00<?, ?B/s]"
      ]
     },
     "metadata": {},
     "output_type": "display_data"
    },
    {
     "name": "stderr",
     "output_type": "stream",
     "text": [
      "A new version of the following files was downloaded from https://huggingface.co/ai4bharat/indictrans2-indic-indic-dist-320M:\n",
      "- modeling_indictrans.py\n",
      ". Make sure to double-check they do not contain any added malicious code. To avoid downloading new versions of the code file, you can pin a revision.\n"
     ]
    },
    {
     "data": {
      "application/vnd.jupyter.widget-view+json": {
       "model_id": "37c07786ff924ddfb25958de3f77a82f",
       "version_major": 2,
       "version_minor": 0
      },
      "text/plain": [
       "pytorch_model.bin:   0%|          | 0.00/1.28G [00:00<?, ?B/s]"
      ]
     },
     "metadata": {},
     "output_type": "display_data"
    },
    {
     "data": {
      "application/vnd.jupyter.widget-view+json": {
       "model_id": "8b30e144c4184ccd8b5b460de3a36489",
       "version_major": 2,
       "version_minor": 0
      },
      "text/plain": [
       "generation_config.json:   0%|          | 0.00/168 [00:00<?, ?B/s]"
      ]
     },
     "metadata": {},
     "output_type": "display_data"
    }
   ],
   "source": [
    "import torch\n",
    "from transformers import AutoModelForSeq2SeqLM\n",
    "from IndicTransTokenizer import IndicProcessor, IndicTransTokenizer\n",
    "\n",
    "tokenizer = IndicTransTokenizer(direction=\"indic-indic\")\n",
    "ip = IndicProcessor(inference=True)\n",
    "model = AutoModelForSeq2SeqLM.from_pretrained(\"ai4bharat/indictrans2-indic-indic-dist-320M\", trust_remote_code=True, low_cpu_mem_usage=True)\n",
    "model=model.to(\"cuda\")\n",
    "# def translate_from_file(input_file, hindi_to_english):\n",
    "\n",
    "#   with open(input_file, 'r') as f:\n",
    "#     sentences = f.readlines()\n",
    "\n",
    "#   batch = ip.preprocess_batch(sentences, src_lang=\"eng_Latn\", tgt_lang=\"hin_Deva\")\n",
    "#   batch = tokenizer(batch, src=True, return_tensors=\"pt\").to(\"cuda\")\n",
    "\n",
    "#   with torch.inference_mode():\n",
    "#     outputs = model.generate(**batch, num_beams=5, num_return_sequences=1, max_length=256)\n",
    "\n",
    "#   outputs = tokenizer.batch_decode(outputs, src=False)\n",
    "#   outputs = ip.postprocess_batch(outputs, lang=\"hin_Deva\")\n",
    "\n",
    "#   hindi_to_english.extend(outputs)  # Append translated sentences to the output list\n",
    "\n",
    "# # Example usage:\n",
    "# input_file = \"/kaggle/input/extracted-22/extracted_eng.txt\"  # Replace with your actual file path\n",
    "# hindi_to_english = []\n",
    "\n",
    "# translate_from_file(input_file, hindi_to_english)\n",
    "\n",
    "# print(output_list)  # List containing the translated sentences from the file\n"
   ]
  },
  {
   "cell_type": "code",
   "execution_count": 13,
   "metadata": {
    "execution": {
     "iopub.execute_input": "2024-04-16T19:25:48.850544Z",
     "iopub.status.busy": "2024-04-16T19:25:48.849689Z",
     "iopub.status.idle": "2024-04-16T19:28:50.103963Z",
     "shell.execute_reply": "2024-04-16T19:28:50.103122Z",
     "shell.execute_reply.started": "2024-04-16T19:25:48.850514Z"
    }
   },
   "outputs": [],
   "source": [
    "hindi_to_gujrati = []\n",
    "file_path = \"/kaggle/input/extracted-22/extracted_hi.txt\"  \n",
    "with open(file_path, \"r\", encoding=\"utf-8\") as file:\n",
    "    input_sentences = [line.strip() for line in file]\n",
    "BATCH_SIZE=4\n",
    "for i in range(0,len(input_sentences),BATCH_SIZE):\n",
    "    batch = input_sentences[i : i + BATCH_SIZE]\n",
    "\n",
    "    # Preprocess the batch and extract entity mappings\n",
    "    batch = ip.preprocess_batch(batch, src_lang=\"hin_Deva\", tgt_lang=\"guj_Gujr\")\n",
    "\n",
    "    # Tokenize the batch and generate input encodings\n",
    "    batch = tokenizer(batch, src=True, return_tensors=\"pt\").to(\"cuda\")\n",
    "\n",
    "    with torch.inference_mode():\n",
    "        outputs = model.generate(**batch,use_cache=True, num_beams=5, num_return_sequences=1, max_length=256)\n",
    "\n",
    "    # Decode the generated tokens into text\n",
    "    outputs = tokenizer.batch_decode(outputs, src=False)\n",
    "    # Postprocess the translations, including entity replacement\n",
    "    outputs = ip.postprocess_batch(outputs, lang=\"guj_Gujr\")\n",
    "    hindi_to_gujrati.append(outputs)\n",
    "    del batch\n",
    "    torch.cuda.empty_cache()"
   ]
  },
  {
   "cell_type": "code",
   "execution_count": 14,
   "metadata": {
    "execution": {
     "iopub.execute_input": "2024-04-16T19:28:50.105919Z",
     "iopub.status.busy": "2024-04-16T19:28:50.105526Z",
     "iopub.status.idle": "2024-04-16T19:28:51.959521Z",
     "shell.execute_reply": "2024-04-16T19:28:51.958381Z",
     "shell.execute_reply.started": "2024-04-16T19:28:50.105865Z"
    }
   },
   "outputs": [],
   "source": [
    "import torch\n",
    "from transformers import AutoModelForSeq2SeqLM\n",
    "from IndicTransTokenizer import IndicProcessor, IndicTransTokenizer\n",
    "\n",
    "tokenizer = IndicTransTokenizer(direction=\"indic-indic\")\n",
    "ip = IndicProcessor(inference=True)\n",
    "model = AutoModelForSeq2SeqLM.from_pretrained(\"ai4bharat/indictrans2-indic-indic-dist-320M\", trust_remote_code=True, low_cpu_mem_usage=True)\n",
    "model=model.to(\"cuda\")\n",
    "# def translate_from_file(input_file, hindi_to_english):\n",
    "\n",
    "#   with open(input_file, 'r') as f:\n",
    "#     sentences = f.readlines()\n",
    "\n",
    "#   batch = ip.preprocess_batch(sentences, src_lang=\"eng_Latn\", tgt_lang=\"hin_Deva\")\n",
    "#   batch = tokenizer(batch, src=True, return_tensors=\"pt\").to(\"cuda\")\n",
    "\n",
    "#   with torch.inference_mode():\n",
    "#     outputs = model.generate(**batch, num_beams=5, num_return_sequences=1, max_length=256)\n",
    "\n",
    "#   outputs = tokenizer.batch_decode(outputs, src=False)\n",
    "#   outputs = ip.postprocess_batch(outputs, lang=\"hin_Deva\")\n",
    "\n",
    "#   hindi_to_english.extend(outputs)  # Append translated sentences to the output list\n",
    "\n",
    "# # Example usage:\n",
    "# input_file = \"/kaggle/input/extracted-22/extracted_eng.txt\"  # Replace with your actual file path\n",
    "# hindi_to_english = []\n",
    "\n",
    "# translate_from_file(input_file, hindi_to_english)\n",
    "\n",
    "# print(output_list)  # List containing the translated sentences from the file\n"
   ]
  },
  {
   "cell_type": "code",
   "execution_count": 15,
   "metadata": {
    "execution": {
     "iopub.execute_input": "2024-04-16T19:28:51.962066Z",
     "iopub.status.busy": "2024-04-16T19:28:51.961180Z",
     "iopub.status.idle": "2024-04-16T19:31:57.418495Z",
     "shell.execute_reply": "2024-04-16T19:31:57.417358Z",
     "shell.execute_reply.started": "2024-04-16T19:28:51.962027Z"
    }
   },
   "outputs": [],
   "source": [
    "gujrati_to_hindi = []\n",
    "file_path = \"/kaggle/input/extracted-22/extracted_guj2.txt\"  \n",
    "with open(file_path, \"r\", encoding=\"utf-8\") as file:\n",
    "    input_sentences = [line.strip() for line in file]\n",
    "BATCH_SIZE=4\n",
    "for i in range(0,len(input_sentences),BATCH_SIZE):\n",
    "    batch = input_sentences[i : i + BATCH_SIZE]\n",
    "\n",
    "    # Preprocess the batch and extract entity mappings\n",
    "    batch = ip.preprocess_batch(batch, src_lang=\"guj_Gujr\", tgt_lang=\"hin_Deva\")\n",
    "\n",
    "    # Tokenize the batch and generate input encodings\n",
    "    batch = tokenizer(batch, src=True, return_tensors=\"pt\").to(\"cuda\")\n",
    "\n",
    "    with torch.inference_mode():\n",
    "        outputs = model.generate(**batch,use_cache=True, num_beams=5, num_return_sequences=1, max_length=256)\n",
    "\n",
    "    # Decode the generated tokens into text\n",
    "    outputs = tokenizer.batch_decode(outputs, src=False)\n",
    "    # Postprocess the translations, including entity replacement\n",
    "    outputs = ip.postprocess_batch(outputs, lang=\"hin_Deva\")\n",
    "    gujrati_to_hindi.append(outputs)\n",
    "    del batch\n",
    "    torch.cuda.empty_cache()"
   ]
  },
  {
   "cell_type": "code",
   "execution_count": 19,
   "metadata": {
    "execution": {
     "iopub.execute_input": "2024-04-16T19:39:52.066279Z",
     "iopub.status.busy": "2024-04-16T19:39:52.065852Z",
     "iopub.status.idle": "2024-04-16T19:39:52.075021Z",
     "shell.execute_reply": "2024-04-16T19:39:52.074044Z",
     "shell.execute_reply.started": "2024-04-16T19:39:52.066248Z"
    }
   },
   "outputs": [],
   "source": [
    "file_name = \"engg_to_hin_1B.txt\"  # Add \".txt\" extension to make it a text file\n",
    "\n",
    "with open(file_name, \"w\", encoding=\"utf-8\") as file:\n",
    "    for sentences in translation:\n",
    "        for sentence in sentences:\n",
    "            file.write(sentence + \"\\n\")\n",
    "\n",
    "# print(\"Sentences have been written to:\", file_name)\n",
    "\n",
    "# No need to explicitly save the file as it's already done when writing.\n"
   ]
  },
  {
   "cell_type": "code",
   "execution_count": 22,
   "metadata": {
    "execution": {
     "iopub.execute_input": "2024-04-16T19:44:21.514917Z",
     "iopub.status.busy": "2024-04-16T19:44:21.514480Z",
     "iopub.status.idle": "2024-04-16T19:44:21.525172Z",
     "shell.execute_reply": "2024-04-16T19:44:21.523702Z",
     "shell.execute_reply.started": "2024-04-16T19:44:21.514887Z"
    }
   },
   "outputs": [],
   "source": [
    "file_name = \"guj_to_hin_1B.txt\"  # Add \".txt\" extension to make it a text file\n",
    "\n",
    "with open(file_name, \"w\", encoding=\"utf-8\") as file:\n",
    "    for sentences in gujrati_to_hindi:\n",
    "        for sentence in sentences:\n",
    "            file.write(sentence + \"\\n\")\n",
    "\n",
    "# print(\"Sentences have been written to:\", file_name)\n",
    "\n",
    "# No need to explicitly save the file as it's already done when writing.\n"
   ]
  },
  {
   "cell_type": "code",
   "execution_count": null,
   "metadata": {},
   "outputs": [],
   "source": []
  }
 ],
 "metadata": {
  "kaggle": {
   "accelerator": "nvidiaTeslaT4",
   "dataSources": [
    {
     "datasetId": 4804384,
     "sourceId": 8128763,
     "sourceType": "datasetVersion"
    }
   ],
   "dockerImageVersionId": 30683,
   "isGpuEnabled": true,
   "isInternetEnabled": true,
   "language": "python",
   "sourceType": "notebook"
  },
  "kernelspec": {
   "display_name": "Python 3 (ipykernel)",
   "language": "python",
   "name": "python3"
  },
  "language_info": {
   "codemirror_mode": {
    "name": "ipython",
    "version": 3
   },
   "file_extension": ".py",
   "mimetype": "text/x-python",
   "name": "python",
   "nbconvert_exporter": "python",
   "pygments_lexer": "ipython3",
   "version": "3.11.7"
  }
 },
 "nbformat": 4,
 "nbformat_minor": 4
}
